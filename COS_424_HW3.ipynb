{
  "nbformat": 4,
  "nbformat_minor": 0,
  "metadata": {
    "colab": {
      "name": "COS_424_HW3.ipynb",
      "provenance": [],
      "collapsed_sections": [
        "I6ilkO5S2_lb",
        "LVyWP1Mb6oXk",
        "7jqXvo8HFGFz"
      ],
      "toc_visible": true,
      "include_colab_link": true
    },
    "kernelspec": {
      "display_name": "Python 3",
      "language": "python",
      "name": "python3"
    },
    "language_info": {
      "codemirror_mode": {
        "name": "ipython",
        "version": 3
      },
      "file_extension": ".py",
      "mimetype": "text/x-python",
      "name": "python",
      "nbconvert_exporter": "python",
      "pygments_lexer": "ipython3",
      "version": "3.9.2"
    }
  },
  "cells": [
    {
      "cell_type": "markdown",
      "metadata": {
        "id": "view-in-github",
        "colab_type": "text"
      },
      "source": [
        "<a href=\"https://colab.research.google.com/github/mchanwa/COS424/blob/main/COS_424_HW3.ipynb\" target=\"_parent\"><img src=\"https://colab.research.google.com/assets/colab-badge.svg\" alt=\"Open In Colab\"/></a>"
      ]
    },
    {
      "cell_type": "code",
      "metadata": {
        "id": "wrwvHdmGGKls"
      },
      "source": [
        "import numpy as np\n",
        "import pandas as pd\n",
        "\n",
        "import matplotlib.pyplot as plt\n",
        "\n",
        "import math"
      ],
      "execution_count": null,
      "outputs": []
    },
    {
      "cell_type": "markdown",
      "metadata": {
        "id": "I6ilkO5S2_lb"
      },
      "source": [
        "# Data Cleaning"
      ]
    },
    {
      "cell_type": "code",
      "metadata": {
        "id": "V29LxcQ4P1SS",
        "colab": {
          "base_uri": "https://localhost:8080/"
        },
        "outputId": "badf3510-88c6-4f98-9362-ca6d782d0dec"
      },
      "source": [
        "# Read data. Clean a bit.\n",
        "file1 = open('/content/drive/MyDrive/COS424HW3Files/CCRB_database_raw.csv', 'r') \n",
        "complaints_df = pd.read_csv(file1)\n",
        "\n",
        "complaints_df = complaints_df.drop(['ShieldNo', 'AsOfDate'], axis=1)\n",
        "\n",
        "# Fix up some common typos in the dataset.\n",
        "allegations_correction_dict = {\n",
        "    'Vehicle Searched': 'Vehicle search',\n",
        "    'Other - Ethnic Slur': 'Ethnic Slur',\n",
        "    'Refusal to provide shield number': 'Refusal to provide name/shield number',\n",
        "    'Refusal to provide name': 'Refusal to provide name/shield number',\n",
        "    'Property Damaged': 'Property damaged',\n",
        "    'Gun Pointed': 'Gun pointed/gun drawn',\n",
        "    'Gun pointed': 'Gun pointed/gun drawn',\n",
        "    'Threat of Arrest': 'Threat of arrest',\n",
        "    'Other- Discourtesy': 'Discourtesy',\n",
        "    'Premise Searched': 'Premises entered and/or searched',\n",
        "    'Entry of Premises': 'Premises entered and/or searched',\n",
        "    'Search of Premises': 'Premises entered and/or searched',\n",
        "    'Threat of Summons': 'Threat of summons',\n",
        "    'Property Damaged': 'Property damaged',\n",
        "    'Flashlight As Club': 'Flashlight As club',\n",
        "    'Radio As Club': 'Radio as club',\n",
        "    'Gun Fired': 'Gun fired',\n",
        "    'Gun As Club': 'Gun As club',\n",
        "}\n",
        "\n",
        "penalty_correction_dict = {\n",
        "    'Terminated': 'Termination',\n",
        "}\n",
        "\n",
        "complaints_df['Allegation'] = complaints_df['Allegation'].replace(allegations_correction_dict)\n",
        "complaints_df['PenaltyDesc'] = complaints_df['PenaltyDesc'].replace(penalty_correction_dict)\n",
        "complaints_df['Full Name'] = complaints_df['First Name'] + \" \" + complaints_df['Last Name']\n",
        "\n",
        "complaints_df['Incident Date'] = pd.to_datetime(complaints_df['Incident Date'], format='%m/%d/%Y')\n",
        "dates = complaints_df[\"Incident Date\"]\n",
        "\n",
        "complaints_df['day'] = complaints_df['Incident Date'].dt.day\n",
        "complaints_df['month'] = complaints_df['Incident Date'].dt.month\n",
        "complaints_df['year'] = complaints_df['Incident Date'].dt.year\n",
        "\n",
        "complaints_df = complaints_df.drop(['Incident Date'], axis=1)\n",
        "complaints_df = complaints_df.dropna(how='any', subset=['Allegation'])"
      ],
      "execution_count": null,
      "outputs": [
        {
          "output_type": "stream",
          "text": [
            "        Unique Id First Name Last Name  ...   day month    year\n",
            "0           43921    Richard    Aalbue  ...   NaN   NaN     NaN\n",
            "1           52580     Walter  Aanonsen  ...   NaN   NaN     NaN\n",
            "2           52580     Walter  Aanonsen  ...  15.0   2.0  1988.0\n",
            "3           52580     Walter  Aanonsen  ...   2.0   4.0  1992.0\n",
            "4           52580     Walter  Aanonsen  ...   2.0   4.0  1992.0\n",
            "...           ...        ...       ...  ...   ...   ...     ...\n",
            "323901        462    Charles  Zwilling  ...   1.0   5.0  2007.0\n",
            "323902        462    Charles  Zwilling  ...  11.0   6.0  2008.0\n",
            "323903        462    Charles  Zwilling  ...  11.0   6.0  2008.0\n",
            "323904        462    Charles  Zwilling  ...   2.0   6.0  2017.0\n",
            "323907      61975   Mitchell  Zykofsky  ...  16.0   1.0  1992.0\n",
            "\n",
            "[290228 rows x 15 columns]\n"
          ],
          "name": "stdout"
        }
      ]
    },
    {
      "cell_type": "code",
      "metadata": {
        "colab": {
          "base_uri": "https://localhost:8080/",
          "height": 343
        },
        "id": "Fh181IsrFn2N",
        "outputId": "8d6132bb-5088-4f91-8797-e9c5454ebba4"
      },
      "source": [
        "complaints_df.head(10)"
      ],
      "execution_count": null,
      "outputs": [
        {
          "output_type": "execute_result",
          "data": {
            "text/html": [
              "<div>\n",
              "<style scoped>\n",
              "    .dataframe tbody tr th:only-of-type {\n",
              "        vertical-align: middle;\n",
              "    }\n",
              "\n",
              "    .dataframe tbody tr th {\n",
              "        vertical-align: top;\n",
              "    }\n",
              "\n",
              "    .dataframe thead th {\n",
              "        text-align: right;\n",
              "    }\n",
              "</style>\n",
              "<table border=\"1\" class=\"dataframe\">\n",
              "  <thead>\n",
              "    <tr style=\"text-align: right;\">\n",
              "      <th></th>\n",
              "      <th>Unique Id</th>\n",
              "      <th>First Name</th>\n",
              "      <th>Last Name</th>\n",
              "      <th>Rank</th>\n",
              "      <th>Command</th>\n",
              "      <th>Complaint Id</th>\n",
              "      <th>FADO Type</th>\n",
              "      <th>Allegation</th>\n",
              "      <th>Board Disposition</th>\n",
              "      <th>NYPDDisposition</th>\n",
              "      <th>PenaltyDesc</th>\n",
              "      <th>Full Name</th>\n",
              "      <th>day</th>\n",
              "      <th>month</th>\n",
              "      <th>year</th>\n",
              "    </tr>\n",
              "  </thead>\n",
              "  <tbody>\n",
              "    <tr>\n",
              "      <th>0</th>\n",
              "      <td>43921</td>\n",
              "      <td>Richard</td>\n",
              "      <td>Aalbue</td>\n",
              "      <td>POM</td>\n",
              "      <td>H BKLYN</td>\n",
              "      <td>6290465.0</td>\n",
              "      <td>Force</td>\n",
              "      <td>Force</td>\n",
              "      <td>Unsubstantiated</td>\n",
              "      <td>NaN</td>\n",
              "      <td>NaN</td>\n",
              "      <td>Richard Aalbue</td>\n",
              "      <td>NaN</td>\n",
              "      <td>NaN</td>\n",
              "      <td>NaN</td>\n",
              "    </tr>\n",
              "    <tr>\n",
              "      <th>1</th>\n",
              "      <td>52580</td>\n",
              "      <td>Walter</td>\n",
              "      <td>Aanonsen</td>\n",
              "      <td>LT</td>\n",
              "      <td>MOUNTED</td>\n",
              "      <td>8300607.0</td>\n",
              "      <td>Force</td>\n",
              "      <td>Force</td>\n",
              "      <td>Complainant Unavailable</td>\n",
              "      <td>NaN</td>\n",
              "      <td>NaN</td>\n",
              "      <td>Walter Aanonsen</td>\n",
              "      <td>NaN</td>\n",
              "      <td>NaN</td>\n",
              "      <td>NaN</td>\n",
              "    </tr>\n",
              "    <tr>\n",
              "      <th>2</th>\n",
              "      <td>52580</td>\n",
              "      <td>Walter</td>\n",
              "      <td>Aanonsen</td>\n",
              "      <td>LT</td>\n",
              "      <td>MOUNTED</td>\n",
              "      <td>8800504.0</td>\n",
              "      <td>Force</td>\n",
              "      <td>Beat</td>\n",
              "      <td>Unsubstantiated</td>\n",
              "      <td>NaN</td>\n",
              "      <td>NaN</td>\n",
              "      <td>Walter Aanonsen</td>\n",
              "      <td>15.0</td>\n",
              "      <td>2.0</td>\n",
              "      <td>1988.0</td>\n",
              "    </tr>\n",
              "    <tr>\n",
              "      <th>3</th>\n",
              "      <td>52580</td>\n",
              "      <td>Walter</td>\n",
              "      <td>Aanonsen</td>\n",
              "      <td>LT</td>\n",
              "      <td>MOUNTED</td>\n",
              "      <td>9201176.0</td>\n",
              "      <td>Abuse of Authority</td>\n",
              "      <td>Vehicle search</td>\n",
              "      <td>Unsubstantiated</td>\n",
              "      <td>NaN</td>\n",
              "      <td>NaN</td>\n",
              "      <td>Walter Aanonsen</td>\n",
              "      <td>2.0</td>\n",
              "      <td>4.0</td>\n",
              "      <td>1992.0</td>\n",
              "    </tr>\n",
              "    <tr>\n",
              "      <th>4</th>\n",
              "      <td>52580</td>\n",
              "      <td>Walter</td>\n",
              "      <td>Aanonsen</td>\n",
              "      <td>LT</td>\n",
              "      <td>MOUNTED</td>\n",
              "      <td>9201176.0</td>\n",
              "      <td>Discourtesy</td>\n",
              "      <td>Nasty Words</td>\n",
              "      <td>Unsubstantiated</td>\n",
              "      <td>NaN</td>\n",
              "      <td>NaN</td>\n",
              "      <td>Walter Aanonsen</td>\n",
              "      <td>2.0</td>\n",
              "      <td>4.0</td>\n",
              "      <td>1992.0</td>\n",
              "    </tr>\n",
              "    <tr>\n",
              "      <th>5</th>\n",
              "      <td>52580</td>\n",
              "      <td>Walter</td>\n",
              "      <td>Aanonsen</td>\n",
              "      <td>LT</td>\n",
              "      <td>MOUNTED</td>\n",
              "      <td>9201176.0</td>\n",
              "      <td>Abuse of Authority</td>\n",
              "      <td>Detention</td>\n",
              "      <td>Unsubstantiated</td>\n",
              "      <td>NaN</td>\n",
              "      <td>NaN</td>\n",
              "      <td>Walter Aanonsen</td>\n",
              "      <td>2.0</td>\n",
              "      <td>4.0</td>\n",
              "      <td>1992.0</td>\n",
              "    </tr>\n",
              "    <tr>\n",
              "      <th>6</th>\n",
              "      <td>52580</td>\n",
              "      <td>Walter</td>\n",
              "      <td>Aanonsen</td>\n",
              "      <td>LT</td>\n",
              "      <td>MOUNTED</td>\n",
              "      <td>9600472.0</td>\n",
              "      <td>Offensive Language</td>\n",
              "      <td>Ethnic Slur</td>\n",
              "      <td>Unfounded</td>\n",
              "      <td>NaN</td>\n",
              "      <td>NaN</td>\n",
              "      <td>Walter Aanonsen</td>\n",
              "      <td>13.0</td>\n",
              "      <td>10.0</td>\n",
              "      <td>1995.0</td>\n",
              "    </tr>\n",
              "    <tr>\n",
              "      <th>7</th>\n",
              "      <td>52580</td>\n",
              "      <td>Walter</td>\n",
              "      <td>Aanonsen</td>\n",
              "      <td>LT</td>\n",
              "      <td>MOUNTED</td>\n",
              "      <td>9600472.0</td>\n",
              "      <td>Abuse of Authority</td>\n",
              "      <td>Vehicle search</td>\n",
              "      <td>Exonerated</td>\n",
              "      <td>NaN</td>\n",
              "      <td>NaN</td>\n",
              "      <td>Walter Aanonsen</td>\n",
              "      <td>13.0</td>\n",
              "      <td>10.0</td>\n",
              "      <td>1995.0</td>\n",
              "    </tr>\n",
              "    <tr>\n",
              "      <th>8</th>\n",
              "      <td>52580</td>\n",
              "      <td>Walter</td>\n",
              "      <td>Aanonsen</td>\n",
              "      <td>LT</td>\n",
              "      <td>MOUNTED</td>\n",
              "      <td>9600472.0</td>\n",
              "      <td>Offensive Language</td>\n",
              "      <td>Black</td>\n",
              "      <td>Unfounded</td>\n",
              "      <td>NaN</td>\n",
              "      <td>NaN</td>\n",
              "      <td>Walter Aanonsen</td>\n",
              "      <td>13.0</td>\n",
              "      <td>10.0</td>\n",
              "      <td>1995.0</td>\n",
              "    </tr>\n",
              "    <tr>\n",
              "      <th>9</th>\n",
              "      <td>52580</td>\n",
              "      <td>Walter</td>\n",
              "      <td>Aanonsen</td>\n",
              "      <td>LT</td>\n",
              "      <td>MOUNTED</td>\n",
              "      <td>9600472.0</td>\n",
              "      <td>Force</td>\n",
              "      <td>Punch/Kick</td>\n",
              "      <td>Unfounded</td>\n",
              "      <td>NaN</td>\n",
              "      <td>NaN</td>\n",
              "      <td>Walter Aanonsen</td>\n",
              "      <td>13.0</td>\n",
              "      <td>10.0</td>\n",
              "      <td>1995.0</td>\n",
              "    </tr>\n",
              "  </tbody>\n",
              "</table>\n",
              "</div>"
            ],
            "text/plain": [
              "   Unique Id First Name Last Name Rank  ...        Full Name   day month    year\n",
              "0      43921    Richard    Aalbue  POM  ...   Richard Aalbue   NaN   NaN     NaN\n",
              "1      52580     Walter  Aanonsen   LT  ...  Walter Aanonsen   NaN   NaN     NaN\n",
              "2      52580     Walter  Aanonsen   LT  ...  Walter Aanonsen  15.0   2.0  1988.0\n",
              "3      52580     Walter  Aanonsen   LT  ...  Walter Aanonsen   2.0   4.0  1992.0\n",
              "4      52580     Walter  Aanonsen   LT  ...  Walter Aanonsen   2.0   4.0  1992.0\n",
              "5      52580     Walter  Aanonsen   LT  ...  Walter Aanonsen   2.0   4.0  1992.0\n",
              "6      52580     Walter  Aanonsen   LT  ...  Walter Aanonsen  13.0  10.0  1995.0\n",
              "7      52580     Walter  Aanonsen   LT  ...  Walter Aanonsen  13.0  10.0  1995.0\n",
              "8      52580     Walter  Aanonsen   LT  ...  Walter Aanonsen  13.0  10.0  1995.0\n",
              "9      52580     Walter  Aanonsen   LT  ...  Walter Aanonsen  13.0  10.0  1995.0\n",
              "\n",
              "[10 rows x 15 columns]"
            ]
          },
          "metadata": {
            "tags": []
          },
          "execution_count": 76
        }
      ]
    },
    {
      "cell_type": "code",
      "metadata": {
        "colab": {
          "base_uri": "https://localhost:8080/"
        },
        "id": "JQTpI6GEAv04",
        "outputId": "a29518f5-edfd-43a8-b45e-640721f4a7a2"
      },
      "source": [
        "from google.colab import drive\n",
        "drive.mount('/content/drive')"
      ],
      "execution_count": null,
      "outputs": [
        {
          "output_type": "stream",
          "text": [
            "Drive already mounted at /content/drive; to attempt to forcibly remount, call drive.mount(\"/content/drive\", force_remount=True).\n"
          ],
          "name": "stdout"
        }
      ]
    },
    {
      "cell_type": "code",
      "metadata": {
        "id": "YVKbOiVdCIFl"
      },
      "source": [
        "copy_complaints_df = complaints_df.copy()\n",
        "copy_complaints_df.sort_values('year')\n",
        "truncated_copy = copy_complaints_df.dropna()"
      ],
      "execution_count": null,
      "outputs": []
    },
    {
      "cell_type": "code",
      "metadata": {
        "id": "kBp89n96GgpO",
        "colab": {
          "base_uri": "https://localhost:8080/"
        },
        "outputId": "b5e3ab6c-8921-44f5-d950-a9d96cb2d83f"
      },
      "source": [
        "from sklearn import preprocessing\n",
        "le = preprocessing.LabelEncoder()\n",
        "\n",
        "allegation_types = complaints_df['Allegation'].unique()\n",
        "allegation_types = allegation_types.astype(str)\n",
        "allegation_types = np.sort(allegation_types)\n",
        "print(allegation_types)\n",
        "print(allegation_types.shape)"
      ],
      "execution_count": null,
      "outputs": [
        {
          "output_type": "stream",
          "text": [
            "['Abuse of Authority' 'Action' 'Animal' 'Arrest/D. A. T.'\n",
            " 'Arrest/Onlooker' 'Beat' 'Black' 'Body Cavity Searches' 'Chokehold'\n",
            " 'Curse' 'Demeanor/tone' 'Detention' 'Discourtesy' 'Dragged/Pulled'\n",
            " 'Electronic device information deletion' 'Ethnic Slur' 'Ethnicity'\n",
            " 'Failed to Obtain Language Interpretation' 'Failure to provide RTKA card'\n",
            " 'Flashlight As club' 'Flashlight as club' 'Force'\n",
            " 'Forcible Removal to Hospital' 'Frisk' 'Frisk and/or search'\n",
            " 'Gay/Lesbian Slur' 'Gender' 'Gender Identity' 'Gesture' 'Gun As club'\n",
            " 'Gun Drawn' 'Gun as club' 'Gun fired' 'Gun pointed/gun drawn'\n",
            " 'Handcuffs too tight' 'Hispanic' 'Hit against inanimate object'\n",
            " 'Improper dissemination of medical info' 'Interference with recording'\n",
            " 'Jewish' 'Mace' 'Nasty Words' 'Nightstick as club (incl asp & baton)'\n",
            " 'Nightstick/Billy/Club' 'Nonlethal restraining device' 'Oriental' 'Other'\n",
            " 'Other - Abuse' 'Other - Force' 'Other Asian'\n",
            " 'Other blunt instrument as a club' 'Pepper spray' 'Person Searched'\n",
            " 'Photography/Videography' 'Physical disability' 'Physical force'\n",
            " 'Police shield' 'Premises entered and/or searched' 'Profane Gesture'\n",
            " 'Property Seized' 'Property damaged' 'Punch/Kick' 'Push/Shove' 'Question'\n",
            " 'Question and/or stop' 'Questioned immigration status' 'Race'\n",
            " 'Radio as club' 'Refusal to obtain medical treatment'\n",
            " 'Refusal to process civilian complaint'\n",
            " 'Refusal to provide name/shield number' 'Refusal to show arrest warrant'\n",
            " 'Refusal to show search warrant' 'Religion' 'Restricted Breathing'\n",
            " 'Retaliatory arrest' 'Retaliatory summons' 'Rude Gesture'\n",
            " 'Search (of person)' 'Search of recording device' 'Seizure of property'\n",
            " 'Sex Miscon (Sexual Harassment, Gesture)'\n",
            " 'Sex Miscon (Sexual Harassment, Verbal)'\n",
            " 'Sex Miscon (Sexual/Romantic Proposition)'\n",
            " 'Sex Miscon (Sexually Motiv Strip-Search)'\n",
            " 'Sex Miscon (Sexually Motivated Frisk)' 'Sexist Remark'\n",
            " 'Sexual Misconduct (Sexual Humiliation)' 'Sexual orientation'\n",
            " 'Sh Refuse Cmp' 'Slap' 'Stop' 'Strip-searched' 'Threat of arrest'\n",
            " 'Threat of force' 'Threat of force (verbal or physical)'\n",
            " 'Threat of summons' 'Threat re: immigration status'\n",
            " 'Threat re: removal to hospital' 'Threat to Property'\n",
            " 'Threat to damage/seize property' 'Threat to notify ACS' 'Vehicle'\n",
            " 'Vehicle search' 'Vehicle stop' 'White' 'Word' 'nan']\n",
            "(108,)\n"
          ],
          "name": "stdout"
        }
      ]
    },
    {
      "cell_type": "code",
      "metadata": {
        "colab": {
          "base_uri": "https://localhost:8080/",
          "height": 360
        },
        "id": "_Aoa1YXGB7wc",
        "outputId": "e885dd6e-082c-4480-e86a-7924cbe16e76"
      },
      "source": [
        "officer_counts = complaints_df['Full Name'].value_counts().reset_index()\n",
        "officer_counts.columns = ['Officer', 'Number of complaints']\n",
        "print(officer_counts.shape)\n",
        "officer_counts.head(10)"
      ],
      "execution_count": null,
      "outputs": [
        {
          "output_type": "stream",
          "text": [
            "(44160, 2)\n"
          ],
          "name": "stdout"
        },
        {
          "output_type": "execute_result",
          "data": {
            "text/html": [
              "<div>\n",
              "<style scoped>\n",
              "    .dataframe tbody tr th:only-of-type {\n",
              "        vertical-align: middle;\n",
              "    }\n",
              "\n",
              "    .dataframe tbody tr th {\n",
              "        vertical-align: top;\n",
              "    }\n",
              "\n",
              "    .dataframe thead th {\n",
              "        text-align: right;\n",
              "    }\n",
              "</style>\n",
              "<table border=\"1\" class=\"dataframe\">\n",
              "  <thead>\n",
              "    <tr style=\"text-align: right;\">\n",
              "      <th></th>\n",
              "      <th>Officer</th>\n",
              "      <th>Number of complaints</th>\n",
              "    </tr>\n",
              "  </thead>\n",
              "  <tbody>\n",
              "    <tr>\n",
              "      <th>0</th>\n",
              "      <td>Robert Currie</td>\n",
              "      <td>173</td>\n",
              "    </tr>\n",
              "    <tr>\n",
              "      <th>1</th>\n",
              "      <td>Michael Elliott</td>\n",
              "      <td>159</td>\n",
              "    </tr>\n",
              "    <tr>\n",
              "      <th>2</th>\n",
              "      <td>Robert Rodriguez</td>\n",
              "      <td>134</td>\n",
              "    </tr>\n",
              "    <tr>\n",
              "      <th>3</th>\n",
              "      <td>John Coghlan</td>\n",
              "      <td>127</td>\n",
              "    </tr>\n",
              "    <tr>\n",
              "      <th>4</th>\n",
              "      <td>Michael Murphy</td>\n",
              "      <td>113</td>\n",
              "    </tr>\n",
              "    <tr>\n",
              "      <th>5</th>\n",
              "      <td>George Whalen</td>\n",
              "      <td>113</td>\n",
              "    </tr>\n",
              "    <tr>\n",
              "      <th>6</th>\n",
              "      <td>Robert Martinez</td>\n",
              "      <td>110</td>\n",
              "    </tr>\n",
              "    <tr>\n",
              "      <th>7</th>\n",
              "      <td>Kevin Martin</td>\n",
              "      <td>109</td>\n",
              "    </tr>\n",
              "    <tr>\n",
              "      <th>8</th>\n",
              "      <td>Steven Deluca</td>\n",
              "      <td>109</td>\n",
              "    </tr>\n",
              "    <tr>\n",
              "      <th>9</th>\n",
              "      <td>Glen Halfhide</td>\n",
              "      <td>109</td>\n",
              "    </tr>\n",
              "  </tbody>\n",
              "</table>\n",
              "</div>"
            ],
            "text/plain": [
              "            Officer  Number of complaints\n",
              "0     Robert Currie                   173\n",
              "1   Michael Elliott                   159\n",
              "2  Robert Rodriguez                   134\n",
              "3      John Coghlan                   127\n",
              "4    Michael Murphy                   113\n",
              "5     George Whalen                   113\n",
              "6   Robert Martinez                   110\n",
              "7      Kevin Martin                   109\n",
              "8     Steven Deluca                   109\n",
              "9     Glen Halfhide                   109"
            ]
          },
          "metadata": {
            "tags": []
          },
          "execution_count": 80
        }
      ]
    },
    {
      "cell_type": "code",
      "metadata": {
        "colab": {
          "base_uri": "https://localhost:8080/",
          "height": 336
        },
        "id": "kby8_XgbP_xe",
        "outputId": "776adcb5-88f8-463c-b6aa-563af111303b"
      },
      "source": [
        "fig, ax = plt.subplots(1, 3)\n",
        "fig.set_size_inches(18, 5)\n",
        "\n",
        "hist = officer_counts.hist(bins=100, range = [0, 20], ax=ax[0])\n",
        "hist = officer_counts.hist(bins=100, range = [20, 50], ax=ax[1])\n",
        "hist = officer_counts.hist(bins=100, range = [50, 200], ax=ax[2])"
      ],
      "execution_count": null,
      "outputs": [
        {
          "output_type": "display_data",
          "data": {
            "image/png": "[encoded data removed]",
            "text/plain": [
              "<Figure size 1296x360 with 3 Axes>"
            ]
          },
          "metadata": {
            "tags": [],
            "needs_background": "light"
          }
        }
      ]
    },
    {
      "cell_type": "code",
      "metadata": {
        "colab": {
          "base_uri": "https://localhost:8080/",
          "height": 343
        },
        "id": "VjOZGjppKzvG",
        "outputId": "1a2c7319-2e3c-424f-9c43-b208ce8fcbb5"
      },
      "source": [
        "allegations = complaints_df['Allegation'].value_counts().reset_index()\n",
        "allegations.columns = ['Allegation', 'Count of allegation']\n",
        "allegations.head(10)"
      ],
      "execution_count": null,
      "outputs": [
        {
          "output_type": "execute_result",
          "data": {
            "text/html": [
              "<div>\n",
              "<style scoped>\n",
              "    .dataframe tbody tr th:only-of-type {\n",
              "        vertical-align: middle;\n",
              "    }\n",
              "\n",
              "    .dataframe tbody tr th {\n",
              "        vertical-align: top;\n",
              "    }\n",
              "\n",
              "    .dataframe thead th {\n",
              "        text-align: right;\n",
              "    }\n",
              "</style>\n",
              "<table border=\"1\" class=\"dataframe\">\n",
              "  <thead>\n",
              "    <tr style=\"text-align: right;\">\n",
              "      <th></th>\n",
              "      <th>Allegation</th>\n",
              "      <th>Count of allegation</th>\n",
              "    </tr>\n",
              "  </thead>\n",
              "  <tbody>\n",
              "    <tr>\n",
              "      <th>0</th>\n",
              "      <td>Physical force</td>\n",
              "      <td>39164</td>\n",
              "    </tr>\n",
              "    <tr>\n",
              "      <th>1</th>\n",
              "      <td>Word</td>\n",
              "      <td>27518</td>\n",
              "    </tr>\n",
              "    <tr>\n",
              "      <th>2</th>\n",
              "      <td>Threat of arrest</td>\n",
              "      <td>13175</td>\n",
              "    </tr>\n",
              "    <tr>\n",
              "      <th>3</th>\n",
              "      <td>Premises entered and/or searched</td>\n",
              "      <td>11315</td>\n",
              "    </tr>\n",
              "    <tr>\n",
              "      <th>4</th>\n",
              "      <td>Curse</td>\n",
              "      <td>11287</td>\n",
              "    </tr>\n",
              "    <tr>\n",
              "      <th>5</th>\n",
              "      <td>Push/Shove</td>\n",
              "      <td>10425</td>\n",
              "    </tr>\n",
              "    <tr>\n",
              "      <th>6</th>\n",
              "      <td>Force</td>\n",
              "      <td>10218</td>\n",
              "    </tr>\n",
              "    <tr>\n",
              "      <th>7</th>\n",
              "      <td>Refusal to provide name/shield number</td>\n",
              "      <td>9576</td>\n",
              "    </tr>\n",
              "    <tr>\n",
              "      <th>8</th>\n",
              "      <td>Stop</td>\n",
              "      <td>8055</td>\n",
              "    </tr>\n",
              "    <tr>\n",
              "      <th>9</th>\n",
              "      <td>Punch/Kick</td>\n",
              "      <td>7375</td>\n",
              "    </tr>\n",
              "  </tbody>\n",
              "</table>\n",
              "</div>"
            ],
            "text/plain": [
              "                              Allegation  Count of allegation\n",
              "0                         Physical force                39164\n",
              "1                                   Word                27518\n",
              "2                       Threat of arrest                13175\n",
              "3       Premises entered and/or searched                11315\n",
              "4                                  Curse                11287\n",
              "5                             Push/Shove                10425\n",
              "6                                  Force                10218\n",
              "7  Refusal to provide name/shield number                 9576\n",
              "8                                   Stop                 8055\n",
              "9                             Punch/Kick                 7375"
            ]
          },
          "metadata": {
            "tags": []
          },
          "execution_count": 82
        }
      ]
    },
    {
      "cell_type": "code",
      "metadata": {
        "colab": {
          "base_uri": "https://localhost:8080/",
          "height": 361
        },
        "id": "tJHbs3h7QHha",
        "outputId": "b5a0da6e-5e90-4a0e-e67a-4ebc8a7ca091"
      },
      "source": [
        "fig, ax = plt.subplots(1, 2)\n",
        "fig.set_size_inches(15, 5)\n",
        "\n",
        "years_of_complaints = complaints_df.groupby([\"year\"]).size().reset_index(name=\"Number of Complaints per Year\").sort_values(by=['year'], ascending = True)\n",
        "\n",
        "years_of_complaints.plot(kind='bar',x='year',y='Number of Complaints per Year', ax=ax[0])\n",
        "\n",
        "months_of_complaints = complaints_df.groupby([\"month\"]).size().reset_index(name=\"Number of Complaints per Month\").sort_values(by=['month'], ascending = True)\n",
        "months_of_complaints.plot(kind='bar',x='month',y='Number of Complaints per Month', ax=ax[1])\n",
        "\n",
        "years = complaints_df['year'].unique()\n",
        "years = [x for x in years if (math.isnan(x) == False)]\n",
        "years.sort()"
      ],
      "execution_count": null,
      "outputs": [
        {
          "output_type": "display_data",
          "data": {
            "image/png": "[encoded data removed]",
            "text/plain": [
              "<Figure size 1080x360 with 2 Axes>"
            ]
          },
          "metadata": {
            "tags": [],
            "needs_background": "light"
          }
        }
      ]
    },
    {
      "cell_type": "markdown",
      "metadata": {
        "id": "LVyWP1Mb6oXk"
      },
      "source": [
        "# Example use of Matrix Factorization"
      ]
    },
    {
      "cell_type": "code",
      "metadata": {
        "id": "pg9OhRuvx19c",
        "colab": {
          "base_uri": "https://localhost:8080/"
        },
        "outputId": "5d14f9a3-491c-40f7-eda1-ce46f1f4c49b"
      },
      "source": [
        "from sklearn import preprocessing\n",
        "\n",
        "officers    = np.array(complaints_df['Full Name']).astype(str)\n",
        "allegations = np.array(complaints_df['Allegation']).astype(str)\n",
        "\n",
        "# Convert from officer names and allegation names to label encoding.\n",
        "le1 = preprocessing.LabelEncoder()\n",
        "le1.fit(officers)\n",
        "\n",
        "le2 = preprocessing.LabelEncoder()\n",
        "le2.fit(allegations)\n",
        "\n",
        "xs = le1.transform(officers)\n",
        "ys = le2.transform(allegations)\n",
        "\n",
        "print(xs)\n",
        "print(ys)\n",
        "\n",
        "assert len(xs) == len(ys)"
      ],
      "execution_count": null,
      "outputs": [
        {
          "output_type": "stream",
          "text": [
            "[56611 70219 70219 ... 42737 57644 49252]\n",
            "[ 21  21   5 ... 107 107 107]\n"
          ],
          "name": "stdout"
        }
      ]
    },
    {
      "cell_type": "code",
      "metadata": {
        "id": "-6s7bfnVzmSx"
      },
      "source": [
        "from sklearn.decomposition import TruncatedSVD, NMF\n",
        "from scipy.sparse import csr_matrix\n",
        "\n",
        "# Get counts of each officer/allegation interaction.\n",
        "non_unique_edges = zip(xs, ys)\n",
        "unique_edges_with_counts = pd.Series(non_unique_edges).value_counts()\n",
        "\n",
        "edges  = unique_edges_with_counts.index.values\n",
        "counts = unique_edges_with_counts.values\n",
        "\n",
        "u_xs, u_ys = zip(*edges)\n",
        "\n",
        "# Construct sparse matrix data type.\n",
        "X = csr_matrix((counts, (u_xs, u_ys)))\n",
        "\n",
        "# Compute Non-negative Matrix Factorization.\n",
        "n_components = 5\n",
        "nmf = NMF(n_components=n_components, random_state=41)\n",
        "Y = nmf.fit(X)"
      ],
      "execution_count": null,
      "outputs": []
    },
    {
      "cell_type": "code",
      "metadata": {
        "colab": {
          "base_uri": "https://localhost:8080/"
        },
        "id": "ZxGjVdgVrFnY",
        "outputId": "fc3afd6c-8487-450f-d543-1f50171d237f"
      },
      "source": [
        "print(f'Top {n_components} components lead to reconstruction error (in Frobenius norm) of {nmf.reconstruction_err_}.')\n",
        "print()\n",
        "\n",
        "# Look at the top principle components.\n",
        "W = nmf.transform(X)\n",
        "print(W.shape)\n",
        "\n",
        "topK = 5\n",
        "for i in range(nmf.components_.shape[0]):\n",
        "  print(f'Top allegations in component {i+1}:')\n",
        "  allegs = np.argsort(nmf.components_[i])[::-1][:topK]\n",
        "  for j in range(topK):\n",
        "    print(f'\\t{le2.classes_[allegs[j]]}')\n",
        "  print()"
      ],
      "execution_count": null,
      "outputs": [
        {
          "output_type": "stream",
          "text": [
            "Top 5 components lead to reconstruction error (in Frobenius norm) of 552.6400982883491.\n",
            "\n",
            "(72714, 5)\n",
            "Top allegations in component 1:\n",
            "\tPhysical force\n",
            "\tStop\n",
            "\tSearch (of person)\n",
            "\tQuestion and/or stop\n",
            "\tRefusal to provide name/shield number\n",
            "\n",
            "Top allegations in component 2:\n",
            "\tCurse\n",
            "\tPush/Shove\n",
            "\tPunch/Kick\n",
            "\tOther - Force\n",
            "\tThreat of force\n",
            "\n",
            "Top allegations in component 3:\n",
            "\tForce\n",
            "\tAbuse of Authority\n",
            "\tDiscourtesy\n",
            "\tEthnic Slur\n",
            "\tPremises entered and/or searched\n",
            "\n",
            "Top allegations in component 4:\n",
            "\tnan\n",
            "\tPush/Shove\n",
            "\tPremises entered and/or searched\n",
            "\tRude Gesture\n",
            "\tOther - Force\n",
            "\n",
            "Top allegations in component 5:\n",
            "\tWord\n",
            "\tThreat of arrest\n",
            "\tRefusal to provide name/shield number\n",
            "\tPremises entered and/or searched\n",
            "\tSearch (of person)\n",
            "\n"
          ],
          "name": "stdout"
        }
      ]
    },
    {
      "cell_type": "code",
      "metadata": {
        "colab": {
          "base_uri": "https://localhost:8080/"
        },
        "id": "QpY-yUXY0MTj",
        "outputId": "a07a287a-812c-4bfd-89c4-91b13364fcfa"
      },
      "source": [
        "# Compute truncated SVD (uses a randomized algorithm by default).\n",
        "n_components = 5\n",
        "svd = TruncatedSVD(n_components=n_components, random_state=41)\n",
        "Y = svd.fit(X)\n",
        "\n",
        "# Look at the top principle components.\n",
        "print(f'Top {n_components} components explain {svd.explained_variance_ratio_.sum()} of the variance.')\n",
        "print(f'Breakdown: {svd.explained_variance_ratio_}\\n')\n",
        "print(Y)\n",
        "\n",
        "\n",
        "\n",
        "\n",
        "topK = 5\n",
        "for i in range(svd.components_.shape[0]):\n",
        "  print(f'Top allegations in component {i+1}:')\n",
        "  allegs = np.argsort(svd.components_[i])[::-1][:topK]\n",
        "  for j in range(topK):\n",
        "    print(f'\\t{le2.classes_[allegs[j]]}')\n",
        "  print()"
      ],
      "execution_count": null,
      "outputs": [
        {
          "output_type": "stream",
          "text": [
            "Top 5 components explain 0.5481558342058688 of the variance.\n",
            "Breakdown: [0.26892853 0.13312524 0.05333117 0.0438211  0.04894979]\n",
            "\n",
            "TruncatedSVD(algorithm='randomized', n_components=5, n_iter=5, random_state=41,\n",
            "             tol=0.0)\n",
            "Top allegations in component 1:\n",
            "\tPhysical force\n",
            "\tWord\n",
            "\tThreat of arrest\n",
            "\tPremises entered and/or searched\n",
            "\tStop\n",
            "\n",
            "Top allegations in component 2:\n",
            "\tCurse\n",
            "\tPush/Shove\n",
            "\tPunch/Kick\n",
            "\tOther - Force\n",
            "\tThreat of force\n",
            "\n",
            "Top allegations in component 3:\n",
            "\tForce\n",
            "\tnan\n",
            "\tAbuse of Authority\n",
            "\tDiscourtesy\n",
            "\tEthnic Slur\n",
            "\n",
            "Top allegations in component 4:\n",
            "\tnan\n",
            "\tPush/Shove\n",
            "\tCurse\n",
            "\tPunch/Kick\n",
            "\tOther - Force\n",
            "\n",
            "Top allegations in component 5:\n",
            "\tWord\n",
            "\tThreat of arrest\n",
            "\tRefusal to provide name/shield number\n",
            "\tPremises entered and/or searched\n",
            "\tThreat of force (verbal or physical)\n",
            "\n"
          ],
          "name": "stdout"
        }
      ]
    },
    {
      "cell_type": "markdown",
      "metadata": {
        "id": "7jqXvo8HFGFz"
      },
      "source": [
        "# CapStat.NYC Police Officer Database\n",
        "Compiled from CapStat.NYC by Wendy Ho\n",
        "\n",
        "https://github.com/wendyho/NYPD-Misconduct-Complaint-Database"
      ]
    },
    {
      "cell_type": "code",
      "metadata": {
        "colab": {
          "base_uri": "https://localhost:8080/",
          "height": 343
        },
        "id": "mTUluQpTFISJ",
        "outputId": "8cdc9b0c-b296-4516-c5e4-074e306c240f"
      },
      "source": [
        "file3 = open('/content/drive/MyDrive/COS424HW3Files/officer_data.csv', 'r') \n",
        "police_df = pd.read_csv(file3)\n",
        "police_df['Full Name'] = police_df['First Name'] + \" \" + police_df['Last Name']\n",
        "police_df.head(10)"
      ],
      "execution_count": null,
      "outputs": [
        {
          "output_type": "execute_result",
          "data": {
            "text/html": [
              "<div>\n",
              "<style scoped>\n",
              "    .dataframe tbody tr th:only-of-type {\n",
              "        vertical-align: middle;\n",
              "    }\n",
              "\n",
              "    .dataframe tbody tr th {\n",
              "        vertical-align: top;\n",
              "    }\n",
              "\n",
              "    .dataframe thead th {\n",
              "        text-align: right;\n",
              "    }\n",
              "</style>\n",
              "<table border=\"1\" class=\"dataframe\">\n",
              "  <thead>\n",
              "    <tr style=\"text-align: right;\">\n",
              "      <th></th>\n",
              "      <th>Unnamed: 0</th>\n",
              "      <th>First Name</th>\n",
              "      <th>Last Name</th>\n",
              "      <th>Rank</th>\n",
              "      <th>Location</th>\n",
              "      <th>Full Name</th>\n",
              "    </tr>\n",
              "  </thead>\n",
              "  <tbody>\n",
              "    <tr>\n",
              "      <th>0</th>\n",
              "      <td>0</td>\n",
              "      <td>Lori</td>\n",
              "      <td>Aanonsen</td>\n",
              "      <td>Detective Third Grade</td>\n",
              "      <td>New York</td>\n",
              "      <td>Lori Aanonsen</td>\n",
              "    </tr>\n",
              "    <tr>\n",
              "      <th>1</th>\n",
              "      <td>1</td>\n",
              "      <td>Walter</td>\n",
              "      <td>Aanonsen</td>\n",
              "      <td>Lieutenant</td>\n",
              "      <td>New York</td>\n",
              "      <td>Walter Aanonsen</td>\n",
              "    </tr>\n",
              "    <tr>\n",
              "      <th>2</th>\n",
              "      <td>2</td>\n",
              "      <td>Abdelhadi</td>\n",
              "      <td>Aanouz</td>\n",
              "      <td>Police Officer</td>\n",
              "      <td>Bronx</td>\n",
              "      <td>Abdelhadi Aanouz</td>\n",
              "    </tr>\n",
              "    <tr>\n",
              "      <th>3</th>\n",
              "      <td>3</td>\n",
              "      <td>Gary</td>\n",
              "      <td>Aaronson</td>\n",
              "      <td>Police Officer</td>\n",
              "      <td>Queens</td>\n",
              "      <td>Gary Aaronson</td>\n",
              "    </tr>\n",
              "    <tr>\n",
              "      <th>4</th>\n",
              "      <td>4</td>\n",
              "      <td>Jacob</td>\n",
              "      <td>Aaronson</td>\n",
              "      <td>Police Officer</td>\n",
              "      <td>New York</td>\n",
              "      <td>Jacob Aaronson</td>\n",
              "    </tr>\n",
              "    <tr>\n",
              "      <th>5</th>\n",
              "      <td>5</td>\n",
              "      <td>Robert</td>\n",
              "      <td>Aasheim</td>\n",
              "      <td>Detective Specialist</td>\n",
              "      <td>New York</td>\n",
              "      <td>Robert Aasheim</td>\n",
              "    </tr>\n",
              "    <tr>\n",
              "      <th>6</th>\n",
              "      <td>6</td>\n",
              "      <td>Thomas</td>\n",
              "      <td>Aasheim</td>\n",
              "      <td>Detective Second Grade</td>\n",
              "      <td>New York</td>\n",
              "      <td>Thomas Aasheim</td>\n",
              "    </tr>\n",
              "    <tr>\n",
              "      <th>7</th>\n",
              "      <td>7</td>\n",
              "      <td>Darsey</td>\n",
              "      <td>Abad</td>\n",
              "      <td>Detective First Grade</td>\n",
              "      <td>New York</td>\n",
              "      <td>Darsey Abad</td>\n",
              "    </tr>\n",
              "    <tr>\n",
              "      <th>8</th>\n",
              "      <td>8</td>\n",
              "      <td>Anthony</td>\n",
              "      <td>Abadia</td>\n",
              "      <td>Police Officer</td>\n",
              "      <td>Kings</td>\n",
              "      <td>Anthony Abadia</td>\n",
              "    </tr>\n",
              "    <tr>\n",
              "      <th>9</th>\n",
              "      <td>9</td>\n",
              "      <td>David</td>\n",
              "      <td>Abadia</td>\n",
              "      <td>Police Officer</td>\n",
              "      <td>Bronx</td>\n",
              "      <td>David Abadia</td>\n",
              "    </tr>\n",
              "  </tbody>\n",
              "</table>\n",
              "</div>"
            ],
            "text/plain": [
              "   Unnamed: 0 First Name  ...            Location         Full Name\n",
              "0           0       Lori  ...            New York     Lori Aanonsen\n",
              "1           1     Walter  ...            New York   Walter Aanonsen\n",
              "2           2  Abdelhadi  ...               Bronx  Abdelhadi Aanouz\n",
              "3           3       Gary  ...              Queens     Gary Aaronson\n",
              "4           4      Jacob  ...            New York    Jacob Aaronson\n",
              "5           5     Robert  ...            New York    Robert Aasheim\n",
              "6           6     Thomas  ...            New York    Thomas Aasheim\n",
              "7           7     Darsey  ...            New York       Darsey Abad\n",
              "8           8    Anthony  ...               Kings    Anthony Abadia\n",
              "9           9      David  ...               Bronx      David Abadia\n",
              "\n",
              "[10 rows x 6 columns]"
            ]
          },
          "metadata": {
            "tags": []
          },
          "execution_count": 18
        }
      ]
    },
    {
      "cell_type": "code",
      "metadata": {
        "colab": {
          "base_uri": "https://localhost:8080/"
        },
        "id": "b1axrFzuFMLq",
        "outputId": "369b2dca-7e35-4bb4-e829-300f4bce62e7"
      },
      "source": [
        "police_df_nameseries = police_df['Full Name'].values.astype(str)\n",
        "df_nameseries  = complaints_df['Full Name'].values.astype(str)\n",
        "\n",
        "df_match = complaints_df.loc[complaints_df['Full Name'].isin(police_df_nameseries)]\n",
        "police_df_match = police_df.loc[police_df['Full Name'].isin(df_nameseries)]\n",
        "print(f'{len(df_match)} of the {len(complaints_df)} complaints matched to a police officer in the CapStat.NYC database.')\n",
        "print(f'{len(police_df_match)} of the {len(police_df)} police officers have at least one complaint against them.')"
      ],
      "execution_count": null,
      "outputs": [
        {
          "output_type": "stream",
          "text": [
            "52061 of the 323911 complaints matched to a police officer in the CapStat.NYC database.\n",
            "11693 of the 12450 police officers have at least one complaint against them.\n"
          ],
          "name": "stdout"
        }
      ]
    },
    {
      "cell_type": "code",
      "metadata": {
        "colab": {
          "base_uri": "https://localhost:8080/"
        },
        "id": "BsvaD-KXIoOD",
        "outputId": "e582a0c9-1177-4613-eb99-64ad1047ec64"
      },
      "source": [
        "police_df['Rank'].value_counts()"
      ],
      "execution_count": null,
      "outputs": [
        {
          "output_type": "execute_result",
          "data": {
            "text/plain": [
              "Police Officer                   7940\n",
              "Sergeant                         1579\n",
              "Detective Third Grade            1068\n",
              "Lieutenant                        642\n",
              "Detective Second Grade            413\n",
              "Detective Specialist              312\n",
              "Detective First Grade             189\n",
              "Captain                            95\n",
              "Deputy Inspector                   54\n",
              "Inspector                          49\n",
              "Deputy Chief Inspector             22\n",
              "Assistant Chief Inspector          15\n",
              "Chief                               5\n",
              "Assistant Commissioner              2\n",
              "Assistant Deputy Commissioner       2\n",
              "Commissioner                        1\n",
              "First Deputy Commissioner           1\n",
              "Deputy Commissioner                 1\n",
              "Name: Rank, dtype: int64"
            ]
          },
          "metadata": {
            "tags": []
          },
          "execution_count": 20
        }
      ]
    },
    {
      "cell_type": "code",
      "metadata": {
        "colab": {
          "base_uri": "https://localhost:8080/"
        },
        "id": "CCYjg2Q2ItxO",
        "outputId": "43d6d963-0d6f-499a-ac39-e5fe5e299330"
      },
      "source": [
        "police_df['Location'].value_counts()"
      ],
      "execution_count": null,
      "outputs": [
        {
          "output_type": "execute_result",
          "data": {
            "text/plain": [
              "          New York    6520\n",
              "          Kings       2206\n",
              "          Queens      1846\n",
              "          Bronx       1384\n",
              "          Richmond     329\n",
              "Name: Location, dtype: int64"
            ]
          },
          "metadata": {
            "tags": []
          },
          "execution_count": 21
        }
      ]
    },
    {
      "cell_type": "markdown",
      "metadata": {
        "id": "WwvIEjlVGzgy"
      },
      "source": [
        "# Our Analyses"
      ]
    },
    {
      "cell_type": "code",
      "metadata": {
        "id": "N9XBN6WyAI8v"
      },
      "source": [
        "from sklearn.decomposition import PCA, FactorAnalysis"
      ],
      "execution_count": null,
      "outputs": []
    },
    {
      "cell_type": "code",
      "metadata": {
        "colab": {
          "base_uri": "https://localhost:8080/"
        },
        "id": "JWOQ7Tpc1vIw",
        "outputId": "8d238a1a-edfb-4bca-cd4f-44c4c4a1e361"
      },
      "source": [
        "n_components = 5\n",
        "fa = FactorAnalysis(n_components=n_components, random_state=41)\n",
        "X_dense = X.todense()\n",
        "Y = fa.fit(X_dense)\n",
        "\n",
        "\n",
        "topK = 5\n",
        "for i in range(fa.components_.shape[0]):\n",
        "  print(f'Top allegations in component {i+1}:')\n",
        "  allegs = np.argsort(fa.components_[i])[::-1][:topK]\n",
        "  for j in range(topK):\n",
        "    print(f'\\t{le2.classes_[allegs[j]]}')\n",
        "  print()\n"
      ],
      "execution_count": null,
      "outputs": [
        {
          "output_type": "stream",
          "text": [
            "Top allegations in component 1:\n",
            "\tPhysical force\n",
            "\tWord\n",
            "\tThreat of arrest\n",
            "\tSearch (of person)\n",
            "\tStop\n",
            "\n",
            "Top allegations in component 2:\n",
            "\tCurse\n",
            "\tPush/Shove\n",
            "\tPunch/Kick\n",
            "\tOther - Force\n",
            "\tThreat of force\n",
            "\n",
            "Top allegations in component 3:\n",
            "\tForce\n",
            "\tAbuse of Authority\n",
            "\tDiscourtesy\n",
            "\tEthnic Slur\n",
            "\tSearch (of person)\n",
            "\n",
            "Top allegations in component 4:\n",
            "\tSearch (of person)\n",
            "\tFrisk\n",
            "\tStop\n",
            "\tVehicle search\n",
            "\tCurse\n",
            "\n",
            "Top allegations in component 5:\n",
            "\tPhysical force\n",
            "\tThreat of force\n",
            "\tInterference with recording\n",
            "\tSearch of recording device\n",
            "\tThreat of force (verbal or physical)\n",
            "\n"
          ],
          "name": "stdout"
        }
      ]
    },
    {
      "cell_type": "code",
      "metadata": {
        "colab": {
          "base_uri": "https://localhost:8080/"
        },
        "id": "d5sR_lMEnzco",
        "outputId": "9c608723-1800-4123-f028-17a915ef882b"
      },
      "source": [
        "n_components = 5\n",
        "pca = PCA(n_components=n_components, random_state=41)\n",
        "X_dense = X.todense()\n",
        "print(X_dense)\n",
        "Y = pca.fit(X_dense)\n",
        "\n",
        "# Look at the top principle components.\n",
        "print(f'Top {n_components} components explain {pca.explained_variance_ratio_.sum()} of the variance.')\n",
        "print(f'Breakdown: {pca.explained_variance_ratio_}\\n')\n",
        "print(Y)\n",
        "\n",
        "\n",
        "\n",
        "\n",
        "topK = 5\n",
        "for i in range(pca.components_.shape[0]):\n",
        "  print(f'Top allegations in component {i+1}:')\n",
        "  allegs = np.argsort(pca.components_[i])[::-1][:topK]\n",
        "  for j in range(topK):\n",
        "    print(f'\\t{le2.classes_[allegs[j]]}')\n",
        "  print()"
      ],
      "execution_count": null,
      "outputs": [
        {
          "output_type": "stream",
          "text": [
            "[[0 0 0 ... 0 1 0]\n",
            " [0 0 0 ... 0 0 0]\n",
            " [0 0 0 ... 0 0 1]\n",
            " ...\n",
            " [0 0 0 ... 0 0 0]\n",
            " [0 0 0 ... 0 0 0]\n",
            " [0 0 0 ... 0 0 0]]\n",
            "Top 5 components explain 0.553375394367541 of the variance.\n",
            "Breakdown: [0.27646056 0.13276319 0.05893934 0.04895323 0.03625908]\n",
            "\n",
            "PCA(copy=True, iterated_power='auto', n_components=5, random_state=41,\n",
            "    svd_solver='auto', tol=0.0, whiten=False)\n",
            "Top allegations in component 1:\n",
            "\tPhysical force\n",
            "\tWord\n",
            "\tThreat of arrest\n",
            "\tPremises entered and/or searched\n",
            "\tStop\n",
            "\n",
            "Top allegations in component 2:\n",
            "\tCurse\n",
            "\tPush/Shove\n",
            "\tPunch/Kick\n",
            "\tOther - Force\n",
            "\tThreat of force\n",
            "\n",
            "Top allegations in component 3:\n",
            "\tForce\n",
            "\tAbuse of Authority\n",
            "\tDiscourtesy\n",
            "\tEthnic Slur\n",
            "\tPremises entered and/or searched\n",
            "\n",
            "Top allegations in component 4:\n",
            "\tWord\n",
            "\tThreat of arrest\n",
            "\tRefusal to provide name/shield number\n",
            "\tPremises entered and/or searched\n",
            "\tThreat of force (verbal or physical)\n",
            "\n",
            "Top allegations in component 5:\n",
            "\tPremises entered and/or searched\n",
            "\tStop\n",
            "\tSearch (of person)\n",
            "\tFrisk\n",
            "\tVehicle search\n",
            "\n"
          ],
          "name": "stdout"
        }
      ]
    },
    {
      "cell_type": "code",
      "metadata": {
        "id": "LqU0PIPH9Hnr"
      },
      "source": [
        "from sklearn.cluster import KMeans\n",
        "\n",
        "n_clusters = 10\n",
        "kmeans = KMeans(n_clusters=n_clusters)\n",
        "kmeans.fit(X_dense)\n",
        "prediction = kmeans.predict(X_dense)"
      ],
      "execution_count": null,
      "outputs": []
    },
    {
      "cell_type": "code",
      "metadata": {
        "colab": {
          "base_uri": "https://localhost:8080/"
        },
        "id": "VrQiQ1vUvL1c",
        "outputId": "8918d8d1-4278-4090-e4b0-7e605e8cf6fe"
      },
      "source": [
        "transpose = X_dense.transpose()\n",
        "X_product = np.matmul(transpose, X_dense)\n",
        "\n",
        "print(X_product)\n",
        "# Compute truncated SVD (uses a randomized algorithm by default).\n",
        "n_components = 5\n",
        "svd_dense = TruncatedSVD(n_components=n_components, random_state=41)\n",
        "Y = svd_dense.fit(X_product)\n",
        "\n",
        "# Look at the top principle components.\n",
        "print(f'Top {n_components} components explain {svd_dense.explained_variance_ratio_.sum()} of the variance.')\n",
        "print(f'Breakdown: {svd_dense.explained_variance_ratio_}\\n')\n",
        "print(Y)\n",
        "\n",
        "\n",
        "\n",
        "\n",
        "topK = 5\n",
        "for i in range(svd_dense.components_.shape[0]):\n",
        "  print(f'Top allegations in component {i+1}:')\n",
        "  allegs = np.argsort(svd_dense.components_[i])[::-1][:topK]\n",
        "  for j in range(topK):\n",
        "    print(f'\\t{le2.classes_[allegs[j]]}')\n",
        "  print()"
      ],
      "execution_count": null,
      "outputs": [
        {
          "output_type": "stream",
          "text": [
            "[[12748   120     2 ...    49  2214  1311]\n",
            " [  120  2534     0 ...     8  4490   262]\n",
            " [    2     0    45 ...     1     9     3]\n",
            " ...\n",
            " [   49     8     1 ...   515    74    19]\n",
            " [ 2214  4490     9 ...    74 81560  4344]\n",
            " [ 1311   262     3 ...    19  4344 38817]]\n",
            "Top 5 components explain 0.950296980726686 of the variance.\n",
            "Breakdown: [0.75328316 0.12789799 0.02783195 0.02325251 0.01803137]\n",
            "\n",
            "TruncatedSVD(algorithm='randomized', n_components=5, n_iter=5, random_state=41,\n",
            "             tol=0.0)\n",
            "Top allegations in component 1:\n",
            "\tPhysical force\n",
            "\tWord\n",
            "\tThreat of arrest\n",
            "\tPremises entered and/or searched\n",
            "\tStop\n",
            "\n",
            "Top allegations in component 2:\n",
            "\tCurse\n",
            "\tPush/Shove\n",
            "\tPunch/Kick\n",
            "\tOther - Force\n",
            "\tThreat of force\n",
            "\n",
            "Top allegations in component 3:\n",
            "\tForce\n",
            "\tnan\n",
            "\tAbuse of Authority\n",
            "\tDiscourtesy\n",
            "\tEthnic Slur\n",
            "\n",
            "Top allegations in component 4:\n",
            "\tnan\n",
            "\tPush/Shove\n",
            "\tCurse\n",
            "\tPunch/Kick\n",
            "\tOther - Force\n",
            "\n",
            "Top allegations in component 5:\n",
            "\tWord\n",
            "\tThreat of arrest\n",
            "\tRefusal to provide name/shield number\n",
            "\tPremises entered and/or searched\n",
            "\tThreat of force (verbal or physical)\n",
            "\n"
          ],
          "name": "stdout"
        }
      ]
    },
    {
      "cell_type": "code",
      "metadata": {
        "colab": {
          "base_uri": "https://localhost:8080/"
        },
        "id": "MsGIxQJSh0Bk",
        "outputId": "e1881dba-523e-41f8-f585-1e0426034898"
      },
      "source": [
        "n_components = 5\n",
        "pca_dense = PCA(n_components=n_components, random_state=41)\n",
        "X_dense = X.todense()\n",
        "Y = pca_dense.fit(X_product)\n",
        "\n",
        "\n",
        "# Look at the top principle components.\n",
        "print(f'Top {n_components} components explain {pca_dense.explained_variance_ratio_.sum()} of the variance.')\n",
        "print(f'Breakdown: {pca_dense.explained_variance_ratio_}\\n')\n",
        "print(Y)\n",
        "\n",
        "\n",
        "\n",
        "topK = 5\n",
        "for i in range(pca_dense.components_.shape[0]):\n",
        "  print(f'Top allegations in component {i+1}:')\n",
        "  allegs = np.argsort(pca_dense.components_[i])[::-1][:topK]\n",
        "  for j in range(topK):\n",
        "    print(f'\\t{le2.classes_[allegs[j]]}')\n",
        "  print()"
      ],
      "execution_count": null,
      "outputs": [
        {
          "output_type": "stream",
          "text": [
            "Top 5 components explain 0.9504828509655843 of the variance.\n",
            "Breakdown: [0.75645237 0.12502458 0.02776716 0.02324867 0.01799008]\n",
            "\n",
            "PCA(copy=True, iterated_power='auto', n_components=5, random_state=41,\n",
            "    svd_solver='auto', tol=0.0, whiten=False)\n",
            "Top allegations in component 1:\n",
            "\tPhysical force\n",
            "\tWord\n",
            "\tThreat of arrest\n",
            "\tPremises entered and/or searched\n",
            "\tStop\n",
            "\n",
            "Top allegations in component 2:\n",
            "\tCurse\n",
            "\tPush/Shove\n",
            "\tPunch/Kick\n",
            "\tOther - Force\n",
            "\tThreat of force\n",
            "\n",
            "Top allegations in component 3:\n",
            "\tForce\n",
            "\tnan\n",
            "\tAbuse of Authority\n",
            "\tDiscourtesy\n",
            "\tEthnic Slur\n",
            "\n",
            "Top allegations in component 4:\n",
            "\tnan\n",
            "\tPush/Shove\n",
            "\tCurse\n",
            "\tPunch/Kick\n",
            "\tOther - Force\n",
            "\n",
            "Top allegations in component 5:\n",
            "\tWord\n",
            "\tThreat of arrest\n",
            "\tRefusal to provide name/shield number\n",
            "\tPremises entered and/or searched\n",
            "\tThreat of force (verbal or physical)\n",
            "\n"
          ],
          "name": "stdout"
        }
      ]
    },
    {
      "cell_type": "code",
      "metadata": {
        "colab": {
          "base_uri": "https://localhost:8080/",
          "height": 404
        },
        "id": "Jz-7U7mJEkSn",
        "outputId": "ae1d1c20-65fc-442b-fc52-9f7db9346cb8"
      },
      "source": [
        "import matplotlib.pyplot as plt\n",
        "plt.figure(figsize=(8,6))\n",
        "plt.plot(np.arange(1, 6, 1), pca_dense.explained_variance_ratio_)\n",
        "plt.title('Explained Variance Ratio for the top 5 Principal Components')\n",
        "plt.ylabel('Explained Variance Ratio')\n",
        "plt.xlabel('Principal Component')\n",
        "plt.show()"
      ],
      "execution_count": null,
      "outputs": [
        {
          "output_type": "display_data",
          "data": {
            "image/png": "[encoded data removed]",
            "text/plain": [
              "<Figure size 576x432 with 1 Axes>"
            ]
          },
          "metadata": {
            "tags": [],
            "needs_background": "light"
          }
        }
      ]
    },
    {
      "cell_type": "code",
      "metadata": {
        "colab": {
          "base_uri": "https://localhost:8080/",
          "height": 1000
        },
        "id": "TDd0hhR2KOsA",
        "outputId": "ed0dd2bd-8c6f-43d2-830d-6ad43707b15f"
      },
      "source": [
        "np.random.seed(41)\n",
        "colors = np.random.rand(108, 3)\n",
        "for j in range(n_components - 1):\n",
        "  for k in range(j + 1, n_components):\n",
        "    plt.figure(figsize=(8,6))\n",
        "    plt.scatter(pca_dense.components_[j],pca_dense.components_[k], c = colors, cmap='rainbow')\n",
        "    plt.xlabel(f'Principal component {j + 1}')\n",
        "    plt.ylabel(f'Principal Component {k + 1}')\n",
        "    plt.show()\n",
        "    print()"
      ],
      "execution_count": null,
      "outputs": [
        {
          "output_type": "display_data",
          "data": {
            "image/png": "[encoded data removed]",
            "text/plain": [
              "<Figure size 576x432 with 1 Axes>"
            ]
          },
          "metadata": {
            "tags": [],
            "needs_background": "light"
          }
        },
        {
          "output_type": "stream",
          "text": [
            "\n"
          ],
          "name": "stdout"
        },
        {
          "output_type": "display_data",
          "data": {
            "image/png": "[encoded data removed]",
            "text/plain": [
              "<Figure size 576x432 with 1 Axes>"
            ]
          },
          "metadata": {
            "tags": [],
            "needs_background": "light"
          }
        },
        {
          "output_type": "stream",
          "text": [
            "\n"
          ],
          "name": "stdout"
        },
        {
          "output_type": "display_data",
          "data": {
            "image/png": "[encoded data removed]",
            "text/plain": [
              "<Figure size 576x432 with 1 Axes>"
            ]
          },
          "metadata": {
            "tags": [],
            "needs_background": "light"
          }
        },
        {
          "output_type": "stream",
          "text": [
            "\n"
          ],
          "name": "stdout"
        },
        {
          "output_type": "display_data",
          "data": {
            "image/png": "[encoded data removed]",
            "text/plain": [
              "<Figure size 576x432 with 1 Axes>"
            ]
          },
          "metadata": {
            "tags": [],
            "needs_background": "light"
          }
        },
        {
          "output_type": "stream",
          "text": [
            "\n"
          ],
          "name": "stdout"
        },
        {
          "output_type": "display_data",
          "data": {
            "image/png": "[encoded data removed]",
            "text/plain": [
              "<Figure size 576x432 with 1 Axes>"
            ]
          },
          "metadata": {
            "tags": [],
            "needs_background": "light"
          }
        },
        {
          "output_type": "stream",
          "text": [
            "\n"
          ],
          "name": "stdout"
        },
        {
          "output_type": "display_data",
          "data": {
            "image/png": "[encoded data removed]",
            "text/plain": [
              "<Figure size 576x432 with 1 Axes>"
            ]
          },
          "metadata": {
            "tags": [],
            "needs_background": "light"
          }
        },
        {
          "output_type": "stream",
          "text": [
            "\n"
          ],
          "name": "stdout"
        },
        {
          "output_type": "display_data",
          "data": {
            "image/png": "[encoded data removed]",
            "text/plain": [
              "<Figure size 576x432 with 1 Axes>"
            ]
          },
          "metadata": {
            "tags": [],
            "needs_background": "light"
          }
        },
        {
          "output_type": "stream",
          "text": [
            "\n"
          ],
          "name": "stdout"
        },
        {
          "output_type": "display_data",
          "data": {
            "image/png": "[encoded data removed]",
            "text/plain": [
              "<Figure size 576x432 with 1 Axes>"
            ]
          },
          "metadata": {
            "tags": [],
            "needs_background": "light"
          }
        },
        {
          "output_type": "stream",
          "text": [
            "\n"
          ],
          "name": "stdout"
        },
        {
          "output_type": "display_data",
          "data": {
            "image/png": "[encoded data removed]",
            "text/plain": [
              "<Figure size 576x432 with 1 Axes>"
            ]
          },
          "metadata": {
            "tags": [],
            "needs_background": "light"
          }
        },
        {
          "output_type": "stream",
          "text": [
            "\n"
          ],
          "name": "stdout"
        },
        {
          "output_type": "display_data",
          "data": {
            "image/png": "[encoded data removed]",
            "text/plain": [
              "<Figure size 576x432 with 1 Axes>"
            ]
          },
          "metadata": {
            "tags": [],
            "needs_background": "light"
          }
        },
        {
          "output_type": "stream",
          "text": [
            "\n"
          ],
          "name": "stdout"
        }
      ]
    },
    {
      "cell_type": "code",
      "metadata": {
        "colab": {
          "base_uri": "https://localhost:8080/"
        },
        "id": "r_cIENAWeKAX",
        "outputId": "2bea089a-17ce-4c9b-84b5-3978c5f09357"
      },
      "source": [
        "from sklearn import preprocessing\n",
        "\n",
        "police_df_nameseries = police_df['Full Name'].values.astype(str)\n",
        "df_nameseries  = complaints_df['Full Name'].values.astype(str)\n",
        "\n",
        "df_match = complaints_df.loc[complaints_df['Full Name'].isin(police_df_nameseries)]\n",
        "\n",
        "officer_allegations_counts_most = df_match['Full Name'].value_counts()[:100]\n",
        "officers_w_most_allegations = np.array(officer_allegations_counts_most.index)\n",
        "officers_most = complaints_df.loc[complaints_df['Full Name'].isin(officers_w_most_allegations)]\n",
        "allegation_groups_most = officers_most.groupby(['Allegation'])\n",
        "allegation_groups_most.size()"
      ],
      "execution_count": null,
      "outputs": [
        {
          "output_type": "execute_result",
          "data": {
            "text/plain": [
              "Allegation\n",
              "Abuse of Authority       32\n",
              "Action                   31\n",
              "Arrest/D. A. T.           8\n",
              "Arrest/Onlooker           6\n",
              "Beat                     64\n",
              "                       ... \n",
              "Threat to notify ACS     11\n",
              "Vehicle                   4\n",
              "Vehicle search          122\n",
              "Vehicle stop            104\n",
              "Word                    475\n",
              "Length: 88, dtype: int64"
            ]
          },
          "metadata": {
            "tags": []
          },
          "execution_count": 32
        }
      ]
    },
    {
      "cell_type": "code",
      "metadata": {
        "colab": {
          "base_uri": "https://localhost:8080/"
        },
        "id": "4hCxrG5CgcKr",
        "outputId": "e260070b-cf93-4387-8ebe-3df21a296358"
      },
      "source": [
        "officer_allegations_counts_least = df_match['Full Name'].value_counts()[-1000:]\n",
        "officers_w_least_allegations = np.array(officer_allegations_counts_least.index)\n",
        "officers_least = complaints_df.loc[complaints_df['Full Name'].isin(officers_w_least_allegations)]\n",
        "allegation_groups_least = officers_least.groupby(['Allegation'])\n",
        "allegation_groups_least.size()"
      ],
      "execution_count": null,
      "outputs": [
        {
          "output_type": "execute_result",
          "data": {
            "text/plain": [
              "Allegation\n",
              "Abuse of Authority                         2\n",
              "Action                                     3\n",
              "Beat                                       2\n",
              "Curse                                      1\n",
              "Demeanor/tone                              1\n",
              "Discourtesy                                2\n",
              "Dragged/Pulled                             1\n",
              "Ethnicity                                  3\n",
              "Force                                      3\n",
              "Forcible Removal to Hospital               3\n",
              "Frisk                                      3\n",
              "Gun Drawn                                  7\n",
              "Gun fired                                  2\n",
              "Gun pointed/gun drawn                      3\n",
              "Hit against inanimate object               1\n",
              "Mace                                       1\n",
              "Nasty Words                                1\n",
              "Nightstick as club (incl asp & baton)      2\n",
              "Nightstick/Billy/Club                      1\n",
              "Pepper spray                               1\n",
              "Person Searched                            1\n",
              "Physical force                           102\n",
              "Premises entered and/or searched          25\n",
              "Property damaged                           1\n",
              "Punch/Kick                                 2\n",
              "Push/Shove                                 2\n",
              "Question                                   4\n",
              "Race                                       1\n",
              "Radio as club                              1\n",
              "Refusal to obtain medical treatment        3\n",
              "Refusal to process civilian complaint      4\n",
              "Refusal to provide name/shield number     16\n",
              "Retaliatory summons                        1\n",
              "Rude Gesture                               1\n",
              "Search (of person)                         1\n",
              "Seizure of property                        1\n",
              "Sexist Remark                              1\n",
              "Sh Refuse Cmp                              1\n",
              "Stop                                      11\n",
              "Strip-searched                             3\n",
              "Threat of arrest                          14\n",
              "Threat of force (verbal or physical)       4\n",
              "Threat of summons                          1\n",
              "Vehicle search                             6\n",
              "Vehicle stop                               1\n",
              "Word                                      33\n",
              "dtype: int64"
            ]
          },
          "metadata": {
            "tags": []
          },
          "execution_count": 33
        }
      ]
    },
    {
      "cell_type": "code",
      "metadata": {
        "colab": {
          "base_uri": "https://localhost:8080/",
          "height": 319
        },
        "id": "XdjRISwzB0Ev",
        "outputId": "09dd3cf3-0169-4d7e-e36f-cd8261a73f92"
      },
      "source": [
        "import networkx as nx\n",
        "\n",
        "G1 = nx.Graph()\n",
        "\n",
        "for name, group in allegation_groups_most:\n",
        "  newG = nx.complete_graph(group['Full Name'].tolist())\n",
        "  G1 = nx.compose(G1, newG)\n",
        "\n",
        "nx.draw(G1)"
      ],
      "execution_count": null,
      "outputs": [
        {
          "output_type": "display_data",
          "data": {
            "image/png": "[encoded data removed]",
            "text/plain": [
              "<Figure size 432x288 with 1 Axes>"
            ]
          },
          "metadata": {
            "tags": []
          }
        }
      ]
    },
    {
      "cell_type": "code",
      "metadata": {
        "colab": {
          "base_uri": "https://localhost:8080/"
        },
        "id": "4aZkx94hEe0f",
        "outputId": "c99cc391-2f49-4ab3-8881-849d3b15787b"
      },
      "source": [
        "most_complaints_degree_centrality = nx.degree_centrality(G1)\n",
        "most_complaints_closeness_centrality = nx.closeness_centrality(G1)\n",
        "most_complaints_eigenvector_centrality = nx.eigenvector_centrality(G1)\n",
        "\n",
        "print(\"degree centrality: \", sum(most_complaints_degree_centrality.values()) / len(most_complaints_degree_centrality.values()))\n",
        "print(\"closeness centrality: \", sum(most_complaints_closeness_centrality.values()) / len(most_complaints_closeness_centrality.values()))"
      ],
      "execution_count": null,
      "outputs": [
        {
          "output_type": "stream",
          "text": [
            "degree centrality:  1.0054545454545458\n",
            "closeness centrality:  0.9868098270583724\n"
          ],
          "name": "stdout"
        }
      ]
    },
    {
      "cell_type": "code",
      "metadata": {
        "colab": {
          "base_uri": "https://localhost:8080/",
          "height": 319
        },
        "id": "Z7bOHRQ1g6Vv",
        "outputId": "25d20dc0-98be-43fe-fbbb-e70534be55f7"
      },
      "source": [
        "import networkx as nx\n",
        "\n",
        "G2 = nx.Graph()\n",
        "\n",
        "for name, group in allegation_groups_least:\n",
        "  newG = nx.complete_graph(group['Full Name'].tolist())\n",
        "  G2 = nx.compose(G2, newG)\n",
        "\n",
        "nx.draw(G2)"
      ],
      "execution_count": null,
      "outputs": [
        {
          "output_type": "display_data",
          "data": {
            "image/png": "[encoded data removed]",
            "text/plain": [
              "<Figure size 432x288 with 1 Axes>"
            ]
          },
          "metadata": {
            "tags": []
          }
        }
      ]
    },
    {
      "cell_type": "code",
      "metadata": {
        "id": "2r4N56LBCg7j"
      },
      "source": [
        "few_complaints_degree_centrality = nx.degree_centrality(G2)\n",
        "few_complaints_closeness_centrality = nx.closeness_centrality(G2)\n",
        "few_complaints_eigenvector_centrality = nx.eigenvector_centrality(G2)"
      ],
      "execution_count": null,
      "outputs": []
    },
    {
      "cell_type": "code",
      "metadata": {
        "colab": {
          "base_uri": "https://localhost:8080/"
        },
        "id": "Qni_Y_HUFE0e",
        "outputId": "23ae4338-e147-4a6e-834d-d07ba2295f2c"
      },
      "source": [
        "print(\"degreee centrality: \", sum(few_complaints_degree_centrality.values()) / len(few_complaints_degree_centrality.values()))\n",
        "print(\"closeness centrality: \", sum(few_complaints_closeness_centrality.values())/ len(few_complaints_closeness_centrality.values()))"
      ],
      "execution_count": null,
      "outputs": [
        {
          "output_type": "stream",
          "text": [
            "degreee centrality:  0.15751754342308288\n",
            "closeness centrality:  0.15751754342308288\n",
            "eigenvector centrality:  0.035561788542732085\n"
          ],
          "name": "stdout"
        }
      ]
    }
  ]
}