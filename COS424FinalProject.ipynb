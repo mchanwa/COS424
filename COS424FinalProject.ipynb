{
  "nbformat": 4,
  "nbformat_minor": 0,
  "metadata": {
    "accelerator": "GPU",
    "colab": {
      "name": "COS424FinalProject.ipynb",
      "provenance": [],
      "collapsed_sections": [
        "SNS7NnDdtvYm"
      ],
      "toc_visible": true,
      "include_colab_link": true
    },
    "kernelspec": {
      "display_name": "Python 3",
      "name": "python3"
    },
    "language_info": {
      "name": "python"
    }
  },
  "cells": [
    {
      "cell_type": "markdown",
      "metadata": {
        "id": "view-in-github",
        "colab_type": "text"
      },
      "source": [
        "<a href=\"https://colab.research.google.com/github/mchanwa/COS424/blob/main/COS424FinalProject.ipynb\" target=\"_parent\"><img src=\"https://colab.research.google.com/assets/colab-badge.svg\" alt=\"Open In Colab\"/></a>"
      ]
    },
    {
      "cell_type": "markdown",
      "metadata": {
        "id": "SNS7NnDdtvYm"
      },
      "source": [
        "# Data Processing"
      ]
    },
    {
      "cell_type": "code",
      "metadata": {
        "id": "et1lS318oXKS"
      },
      "source": [
        "import json\n",
        "import pandas as pd\n",
        "\n",
        "def parse_data(file):\n",
        "    for l in open(file,'r'):\n",
        "        yield json.loads(l)\n",
        "\n",
        "data = list(parse_data('/content/drive/MyDrive/Sarcasm_Headlines_Dataset_v2.json'))\n",
        "data_df = pd.DataFrame(data)"
      ],
      "execution_count": null,
      "outputs": []
    },
    {
      "cell_type": "code",
      "metadata": {
        "colab": {
          "base_uri": "https://localhost:8080/"
        },
        "id": "wREj1ummA4va",
        "outputId": "cd4d4994-fcde-4fbd-cd7a-5de0a5fa961c"
      },
      "source": [
        "from google.colab import drive\n",
        "drive.mount('/content/drive')"
      ],
      "execution_count": null,
      "outputs": [
        {
          "output_type": "stream",
          "text": [
            "Drive already mounted at /content/drive; to attempt to forcibly remount, call drive.mount(\"/content/drive\", force_remount=True).\n"
          ],
          "name": "stdout"
        }
      ]
    },
    {
      "cell_type": "code",
      "metadata": {
        "colab": {
          "base_uri": "https://localhost:8080/"
        },
        "id": "mTN04HFZB92V",
        "outputId": "62505be6-e598-427e-eb7d-5b480b7502f3"
      },
      "source": [
        "data_df"
      ],
      "execution_count": null,
      "outputs": [
        {
          "output_type": "execute_result",
          "data": {
            "text/html": [
              "<div>\n",
              "<style scoped>\n",
              "    .dataframe tbody tr th:only-of-type {\n",
              "        vertical-align: middle;\n",
              "    }\n",
              "\n",
              "    .dataframe tbody tr th {\n",
              "        vertical-align: top;\n",
              "    }\n",
              "\n",
              "    .dataframe thead th {\n",
              "        text-align: right;\n",
              "    }\n",
              "</style>\n",
              "<table border=\"1\" class=\"dataframe\">\n",
              "  <thead>\n",
              "    <tr style=\"text-align: right;\">\n",
              "      <th></th>\n",
              "      <th>is_sarcastic</th>\n",
              "      <th>headline</th>\n",
              "      <th>article_link</th>\n",
              "    </tr>\n",
              "  </thead>\n",
              "  <tbody>\n",
              "    <tr>\n",
              "      <th>0</th>\n",
              "      <td>1</td>\n",
              "      <td>thirtysomething scientists unveil doomsday clo...</td>\n",
              "      <td>https://www.theonion.com/thirtysomething-scien...</td>\n",
              "    </tr>\n",
              "    <tr>\n",
              "      <th>1</th>\n",
              "      <td>0</td>\n",
              "      <td>dem rep. totally nails why congress is falling...</td>\n",
              "      <td>https://www.huffingtonpost.com/entry/donna-edw...</td>\n",
              "    </tr>\n",
              "    <tr>\n",
              "      <th>2</th>\n",
              "      <td>0</td>\n",
              "      <td>eat your veggies: 9 deliciously different recipes</td>\n",
              "      <td>https://www.huffingtonpost.com/entry/eat-your-...</td>\n",
              "    </tr>\n",
              "    <tr>\n",
              "      <th>3</th>\n",
              "      <td>1</td>\n",
              "      <td>inclement weather prevents liar from getting t...</td>\n",
              "      <td>https://local.theonion.com/inclement-weather-p...</td>\n",
              "    </tr>\n",
              "    <tr>\n",
              "      <th>4</th>\n",
              "      <td>1</td>\n",
              "      <td>mother comes pretty close to using word 'strea...</td>\n",
              "      <td>https://www.theonion.com/mother-comes-pretty-c...</td>\n",
              "    </tr>\n",
              "    <tr>\n",
              "      <th>...</th>\n",
              "      <td>...</td>\n",
              "      <td>...</td>\n",
              "      <td>...</td>\n",
              "    </tr>\n",
              "    <tr>\n",
              "      <th>28614</th>\n",
              "      <td>1</td>\n",
              "      <td>jews to celebrate rosh hashasha or something</td>\n",
              "      <td>https://www.theonion.com/jews-to-celebrate-ros...</td>\n",
              "    </tr>\n",
              "    <tr>\n",
              "      <th>28615</th>\n",
              "      <td>1</td>\n",
              "      <td>internal affairs investigator disappointed con...</td>\n",
              "      <td>https://local.theonion.com/internal-affairs-in...</td>\n",
              "    </tr>\n",
              "    <tr>\n",
              "      <th>28616</th>\n",
              "      <td>0</td>\n",
              "      <td>the most beautiful acceptance speech this week...</td>\n",
              "      <td>https://www.huffingtonpost.com/entry/andrew-ah...</td>\n",
              "    </tr>\n",
              "    <tr>\n",
              "      <th>28617</th>\n",
              "      <td>1</td>\n",
              "      <td>mars probe destroyed by orbiting spielberg-gat...</td>\n",
              "      <td>https://www.theonion.com/mars-probe-destroyed-...</td>\n",
              "    </tr>\n",
              "    <tr>\n",
              "      <th>28618</th>\n",
              "      <td>1</td>\n",
              "      <td>dad clarifies this not a food stop</td>\n",
              "      <td>https://www.theonion.com/dad-clarifies-this-no...</td>\n",
              "    </tr>\n",
              "  </tbody>\n",
              "</table>\n",
              "<p>28619 rows × 3 columns</p>\n",
              "</div>"
            ],
            "text/plain": [
              "       is_sarcastic  ...                                       article_link\n",
              "0                 1  ...  https://www.theonion.com/thirtysomething-scien...\n",
              "1                 0  ...  https://www.huffingtonpost.com/entry/donna-edw...\n",
              "2                 0  ...  https://www.huffingtonpost.com/entry/eat-your-...\n",
              "3                 1  ...  https://local.theonion.com/inclement-weather-p...\n",
              "4                 1  ...  https://www.theonion.com/mother-comes-pretty-c...\n",
              "...             ...  ...                                                ...\n",
              "28614             1  ...  https://www.theonion.com/jews-to-celebrate-ros...\n",
              "28615             1  ...  https://local.theonion.com/internal-affairs-in...\n",
              "28616             0  ...  https://www.huffingtonpost.com/entry/andrew-ah...\n",
              "28617             1  ...  https://www.theonion.com/mars-probe-destroyed-...\n",
              "28618             1  ...  https://www.theonion.com/dad-clarifies-this-no...\n",
              "\n",
              "[28619 rows x 3 columns]"
            ]
          },
          "metadata": {
            "tags": []
          },
          "execution_count": 3
        }
      ]
    },
    {
      "cell_type": "code",
      "metadata": {
        "colab": {
          "base_uri": "https://localhost:8080/"
        },
        "id": "pdon6VCcAWGF",
        "outputId": "c1fd19ce-7103-446c-bd54-d1852fe4a977"
      },
      "source": [
        "import nltk\n",
        "from nltk.corpus import stopwords\n",
        "from nltk.corpus import wordnet\n",
        "from nltk.tokenize import word_tokenize\n",
        "from nltk.stem import WordNetLemmatizer\n",
        "\n",
        "import regex as re\n",
        "import string\n",
        "\n",
        "nltk.download('stopwords')\n",
        "nltk.download('punkt')\n",
        "nltk.download('wordnet')\n",
        "nltk.download('averaged_perceptron_tagger')\n",
        "\n",
        "stop_words = set(stopwords.words('english')) - {'all'}"
      ],
      "execution_count": null,
      "outputs": [
        {
          "output_type": "stream",
          "text": [
            "[nltk_data] Downloading package stopwords to /root/nltk_data...\n",
            "[nltk_data]   Package stopwords is already up-to-date!\n",
            "[nltk_data] Downloading package punkt to /root/nltk_data...\n",
            "[nltk_data]   Package punkt is already up-to-date!\n",
            "[nltk_data] Downloading package wordnet to /root/nltk_data...\n",
            "[nltk_data]   Package wordnet is already up-to-date!\n",
            "[nltk_data] Downloading package averaged_perceptron_tagger to\n",
            "[nltk_data]     /root/nltk_data...\n",
            "[nltk_data]   Package averaged_perceptron_tagger is already up-to-\n",
            "[nltk_data]       date!\n"
          ],
          "name": "stdout"
        }
      ]
    },
    {
      "cell_type": "code",
      "metadata": {
        "id": "WRMECrJnA8JL"
      },
      "source": [
        "#   https://www.machinelearningplus.com/nlp/lemmatization-examples-python/\n",
        "def get_wordnet_pos(word):\n",
        "    tag = nltk.pos_tag([word])[0][1][0].upper()\n",
        "    tag_dict = {\"J\": wordnet.ADJ,\n",
        "                \"N\": wordnet.NOUN,\n",
        "                \"V\": wordnet.VERB,\n",
        "                \"R\": wordnet.ADV}\n",
        "    return tag_dict.get(tag, wordnet.NOUN)\n",
        "\n",
        "#   https://www.pluralsight.com/guides/building-a-twitter-sentiment-analysis-in-python\n",
        "def preprocess_text(text):\n",
        "    text = text.lower()\n",
        "    # Removes punctuation\n",
        "    text = re.sub(r'\\p{P}+', '', text)\n",
        "    # Removes stopwords\n",
        "    tokens = [w for w in word_tokenize(text) if not w in stop_words]\n",
        "    # Perfoms lemmatization on tokens\n",
        "    lemmatizer = WordNetLemmatizer()\n",
        "    lemma_words = [lemmatizer.lemmatize(w, get_wordnet_pos(w)) for w in tokens]\n",
        "    return \" \".join(lemma_words)\n",
        "\n",
        "\n",
        "# preprocess the whole dataframe\n",
        "def preprocess_df(df):\n",
        "  headline = 'headline'\n",
        "  length = len(df[headline])\n",
        "  for i in range(length):\n",
        "    text = str(df[headline][i])\n",
        "    df.loc[i, headline] = preprocess_text(text)\n",
        "\n",
        "\n",
        "preprocess_df(data_df)"
      ],
      "execution_count": null,
      "outputs": []
    },
    {
      "cell_type": "markdown",
      "metadata": {
        "id": "e_Tnzgw3Ci2n"
      },
      "source": [
        "# Analysis"
      ]
    },
    {
      "cell_type": "code",
      "metadata": {
        "id": "QVjKwCy-NqW6"
      },
      "source": [
        "import time\n",
        "\n",
        "from sklearn.metrics import precision_score\n",
        "from sklearn.metrics import f1_score\n",
        "from sklearn.metrics import recall_score\n",
        "from sklearn.model_selection import cross_validate"
      ],
      "execution_count": null,
      "outputs": []
    },
    {
      "cell_type": "code",
      "metadata": {
        "id": "XQY6YHSaORcX"
      },
      "source": [
        "import statistics\n",
        "\n",
        "def cross_validation(classifier, numfolds):\n",
        "  cv_results_accuracy = \\\n",
        "    cross_validate(classifier, X_train_df, y_train, cv=numfolds, scoring='accuracy')\n",
        "  cv_results_recall = \\\n",
        "    cross_validate(classifier, X_train_df, y_train, cv=numfolds, scoring='recall')\n",
        "  cv_results_f1 = \\\n",
        "    cross_validate(classifier, X_train_df, y_train, cv=numfolds, scoring='f1')\n",
        "  cv_results_precision = \\\n",
        "    cross_validate(classifier, X_train_df, y_train, cv=numfolds, scoring='precision')\n",
        "\n",
        "  print(\"accuracy cv: {:.4f}\".format(statistics.mean(cv_results_accuracy['test_score'])))\n",
        "  print(\"precision cv: {:.4f}\".format(statistics.mean(cv_results_precision['test_score'])))\n",
        "  print(\"recall cv: {:.4f}\".format(statistics.mean(cv_results_recall['test_score'])))\n",
        "  print(\"f1 cv: {:.4f}\".format(statistics.mean(cv_results_f1['test_score'])))"
      ],
      "execution_count": null,
      "outputs": []
    },
    {
      "cell_type": "markdown",
      "metadata": {
        "id": "3C2miKoCDMFF"
      },
      "source": [
        "## LSTM"
      ]
    },
    {
      "cell_type": "code",
      "metadata": {
        "id": "-rkKm5KMDN5b"
      },
      "source": [
        "from keras.preprocessing.text import Tokenizer\n",
        "from keras.preprocessing.sequence import pad_sequences\n",
        "from sklearn.model_selection import train_test_split\n",
        "\n",
        "max_fatures = 2000\n",
        "tokenizer = Tokenizer(num_words=max_fatures, split=' ')\n",
        "tokenizer.fit_on_texts(data_df['headline'].values)\n",
        "\n",
        "X = tokenizer.texts_to_sequences(data_df['headline'].values)\n",
        "X = pad_sequences(X)\n",
        "\n",
        "Y = pd.get_dummies(data_df['is_sarcastic']).values\n",
        "\n",
        "X_train, X_test, Y_train, Y_test = train_test_split(X,Y, test_size = 0.25, random_state = 42)"
      ],
      "execution_count": null,
      "outputs": []
    },
    {
      "cell_type": "code",
      "metadata": {
        "id": "LkaimNJfYZ2w"
      },
      "source": [
        "%tensorflow_version 2.x\n",
        "import tensorflow as tf\n",
        "from keras.models import Sequential\n",
        "from keras.layers import Dense, Embedding, LSTM, SpatialDropout1D\n",
        "\n",
        "import numpy as np\n",
        "import matplotlib.pyplot as plt"
      ],
      "execution_count": null,
      "outputs": []
    },
    {
      "cell_type": "code",
      "metadata": {
        "colab": {
          "base_uri": "https://localhost:8080/"
        },
        "id": "qFQm3FokNIx4",
        "outputId": "6a65de63-82b6-42d9-cde4-aac71559359f"
      },
      "source": [
        "def build_LSTM_model(vocab_size):\n",
        "  batch_size = 32\n",
        "  embedding_dim = 128\n",
        "  lstm_out = 196\n",
        "\n",
        "  model = Sequential()\n",
        "  model.add(Embedding(vocab_size, embedding_dim,input_length = X.shape[1]))\n",
        "  model.add(SpatialDropout1D(0.4))\n",
        "  model.add(LSTM(lstm_out, activation='relu', dropout=0.2, recurrent_dropout=0.2))\n",
        "  model.add(Dense(2,activation='softmax'))\n",
        "\n",
        "  return model\n",
        "\n",
        "model_lstm = build_LSTM_model(2000)\n",
        "model_lstm.compile(loss = 'categorical_crossentropy', optimizer='adam', metrics = ['accuracy', 'Recall', 'Precision'])"
      ],
      "execution_count": null,
      "outputs": [
        {
          "output_type": "stream",
          "text": [
            "WARNING:tensorflow:Layer lstm will not use cuDNN kernel since it doesn't meet the cuDNN kernel criteria. It will use generic GPU kernel as fallback when running on GPU\n"
          ],
          "name": "stdout"
        }
      ]
    },
    {
      "cell_type": "code",
      "metadata": {
        "colab": {
          "base_uri": "https://localhost:8080/"
        },
        "id": "khKK_hGlJHyd",
        "outputId": "832614cf-eeef-4074-9b6a-e4f1c5028f82"
      },
      "source": [
        "start = time.time()\n",
        "history = model_lstm.fit(X_train, Y_train, epochs=10, validation_data=(X_test, Y_test))\n",
        "end = time.time()\n",
        "\n",
        "print()\n",
        "print(\"fit and predict time (LSTM): {:.4f}\".format(end-start))"
      ],
      "execution_count": null,
      "outputs": [
        {
          "output_type": "stream",
          "text": [
            "Epoch 1/10\n",
            "671/671 [==============================] - 135s 197ms/step - loss: 37100.6307 - accuracy: 0.6561 - recall: 0.6561 - precision: 0.6561 - val_loss: 0.4803 - val_accuracy: 0.7632 - val_recall: 0.7632 - val_precision: 0.7632\n",
            "Epoch 2/10\n",
            "671/671 [==============================] - 132s 197ms/step - loss: 0.4256 - accuracy: 0.7968 - recall: 0.7968 - precision: 0.7968 - val_loss: 0.4696 - val_accuracy: 0.7698 - val_recall: 0.7698 - val_precision: 0.7698\n",
            "Epoch 3/10\n",
            "671/671 [==============================] - 132s 196ms/step - loss: 0.3877 - accuracy: 0.8185 - recall: 0.8185 - precision: 0.8185 - val_loss: 0.4770 - val_accuracy: 0.7688 - val_recall: 0.7688 - val_precision: 0.7688\n",
            "Epoch 4/10\n",
            "671/671 [==============================] - 131s 195ms/step - loss: 0.3567 - accuracy: 0.8316 - recall: 0.8316 - precision: 0.8316 - val_loss: 0.4862 - val_accuracy: 0.7684 - val_recall: 0.7684 - val_precision: 0.7684\n",
            "Epoch 5/10\n",
            "671/671 [==============================] - 132s 196ms/step - loss: 0.3399 - accuracy: 0.8378 - recall: 0.8378 - precision: 0.8378 - val_loss: 1.4699 - val_accuracy: 0.7681 - val_recall: 0.7681 - val_precision: 0.7681\n",
            "Epoch 6/10\n",
            "671/671 [==============================] - 139s 207ms/step - loss: 0.3150 - accuracy: 0.8506 - recall: 0.8506 - precision: 0.8506 - val_loss: 0.5286 - val_accuracy: 0.7630 - val_recall: 0.7630 - val_precision: 0.7630\n",
            "Epoch 7/10\n",
            "671/671 [==============================] - 134s 200ms/step - loss: 0.2864 - accuracy: 0.8642 - recall: 0.8642 - precision: 0.8642 - val_loss: 0.5381 - val_accuracy: 0.7621 - val_recall: 0.7621 - val_precision: 0.7621\n",
            "Epoch 8/10\n",
            "671/671 [==============================] - 132s 197ms/step - loss: 0.2711 - accuracy: 0.8735 - recall: 0.8735 - precision: 0.8735 - val_loss: 3.4991 - val_accuracy: 0.7603 - val_recall: 0.7603 - val_precision: 0.7603\n",
            "Epoch 9/10\n",
            "671/671 [==============================] - 132s 197ms/step - loss: 0.2546 - accuracy: 0.8820 - recall: 0.8820 - precision: 0.8820 - val_loss: 0.6621 - val_accuracy: 0.7564 - val_recall: 0.7564 - val_precision: 0.7564\n",
            "Epoch 10/10\n",
            "671/671 [==============================] - 132s 197ms/step - loss: 0.2288 - accuracy: 0.8972 - recall: 0.8972 - precision: 0.8972 - val_loss: 0.7005 - val_accuracy: 0.7554 - val_recall: 0.7554 - val_precision: 0.7554\n",
            "\n",
            "fit and predict time (LSTM): 1331.3954\n"
          ],
          "name": "stdout"
        }
      ]
    },
    {
      "cell_type": "markdown",
      "metadata": {
        "id": "IYLNhpTJPvB7"
      },
      "source": [
        "## CNN"
      ]
    },
    {
      "cell_type": "code",
      "metadata": {
        "id": "X0xdGHJw7phN"
      },
      "source": [
        "X = data_df['headline']\n",
        "Y = data_df['is_sarcastic']\n",
        "\n",
        "X_train_sentences, X_test_sentences, Y_train, Y_test = train_test_split(X,Y, test_size = 0.25, random_state = 42)"
      ],
      "execution_count": null,
      "outputs": []
    },
    {
      "cell_type": "code",
      "metadata": {
        "id": "MHNSH6hs7dX7"
      },
      "source": [
        "tokenizer = Tokenizer(num_words=5000)\n",
        "tokenizer.fit_on_texts(X_train_sentences)\n",
        "\n",
        "X_train = tokenizer.texts_to_sequences(X_train_sentences)\n",
        "X_test = tokenizer.texts_to_sequences(X_test_sentences)\n",
        "\n",
        "vocab_size = len(tokenizer.word_index) + 1                          \n",
        "\n",
        "X_train = pad_sequences(X_train, padding='post', maxlen=100)\n",
        "X_test = pad_sequences(X_test, padding='post', maxlen=100)"
      ],
      "execution_count": null,
      "outputs": []
    },
    {
      "cell_type": "code",
      "metadata": {
        "id": "a-l6psD5P1S_"
      },
      "source": [
        "from tensorflow.keras import layers\n",
        "\n",
        "def build_CNN_model():\n",
        "  embedding_dim = 100\n",
        "\n",
        "  model = Sequential()\n",
        "  model.add(layers.Embedding(vocab_size, embedding_dim))\n",
        "  model.add(layers.Conv1D(128, 5, activation='relu'))\n",
        "  model.add(layers.GlobalMaxPooling1D())\n",
        "  model.add(layers.Dense(10, activation='relu'))\n",
        "  model.add(layers.Dense(1, activation='sigmoid'))\n",
        "\n",
        "  return model"
      ],
      "execution_count": null,
      "outputs": []
    },
    {
      "cell_type": "code",
      "metadata": {
        "colab": {
          "base_uri": "https://localhost:8080/"
        },
        "id": "gYAuar8oR42T",
        "outputId": "680ef1ef-ff0b-4083-f735-8c78297b88d0"
      },
      "source": [
        "cnn_model = build_CNN_model()\n",
        "\n",
        "cnn_model.compile(optimizer='adam',\n",
        "                loss='binary_crossentropy',\n",
        "                metrics = ['accuracy', 'Recall', 'Precision'])\n",
        "\n",
        "\n",
        "start = time.time()\n",
        "history = cnn_model.fit(X_train, Y_train, epochs=10, validation_data=(X_test, Y_test))\n",
        "end = time.time()\n",
        "\n",
        "print()\n",
        "print(\"fit and predict time (CNN): {:.4f}\".format(end-start))"
      ],
      "execution_count": null,
      "outputs": [
        {
          "output_type": "stream",
          "text": [
            "Epoch 1/10\n",
            "671/671 [==============================] - 19s 23ms/step - loss: 0.5824 - accuracy: 0.6720 - recall: 0.4970 - precision: 0.7194 - val_loss: 0.4682 - val_accuracy: 0.7734 - val_recall: 0.8493 - val_precision: 0.7247\n",
            "Epoch 2/10\n",
            "671/671 [==============================] - 15s 22ms/step - loss: 0.2877 - accuracy: 0.8781 - recall: 0.8563 - precision: 0.8826 - val_loss: 0.4908 - val_accuracy: 0.7768 - val_recall: 0.8301 - val_precision: 0.7369\n",
            "Epoch 3/10\n",
            "671/671 [==============================] - 15s 22ms/step - loss: 0.1421 - accuracy: 0.9490 - recall: 0.9394 - precision: 0.9531 - val_loss: 0.6484 - val_accuracy: 0.7762 - val_recall: 0.7436 - val_precision: 0.7789\n",
            "Epoch 4/10\n",
            "671/671 [==============================] - 15s 22ms/step - loss: 0.0567 - accuracy: 0.9812 - recall: 0.9757 - precision: 0.9844 - val_loss: 0.9183 - val_accuracy: 0.7734 - val_recall: 0.7255 - val_precision: 0.7849\n",
            "Epoch 5/10\n",
            "671/671 [==============================] - 15s 23ms/step - loss: 0.0200 - accuracy: 0.9929 - recall: 0.9910 - precision: 0.9940 - val_loss: 1.0824 - val_accuracy: 0.7712 - val_recall: 0.7778 - val_precision: 0.7525\n",
            "Epoch 6/10\n",
            "671/671 [==============================] - 16s 23ms/step - loss: 0.0106 - accuracy: 0.9960 - recall: 0.9948 - precision: 0.9968 - val_loss: 1.3149 - val_accuracy: 0.7695 - val_recall: 0.7950 - val_precision: 0.7420\n",
            "Epoch 7/10\n",
            "671/671 [==============================] - 16s 23ms/step - loss: 0.0070 - accuracy: 0.9970 - recall: 0.9958 - precision: 0.9978 - val_loss: 1.4338 - val_accuracy: 0.7736 - val_recall: 0.7708 - val_precision: 0.7597\n",
            "Epoch 8/10\n",
            "671/671 [==============================] - 15s 23ms/step - loss: 0.0045 - accuracy: 0.9982 - recall: 0.9974 - precision: 0.9988 - val_loss: 1.5861 - val_accuracy: 0.7673 - val_recall: 0.7702 - val_precision: 0.7503\n",
            "Epoch 9/10\n",
            "671/671 [==============================] - 15s 22ms/step - loss: 0.0056 - accuracy: 0.9973 - recall: 0.9964 - precision: 0.9979 - val_loss: 1.8242 - val_accuracy: 0.7628 - val_recall: 0.7936 - val_precision: 0.7330\n",
            "Epoch 10/10\n",
            "671/671 [==============================] - 15s 22ms/step - loss: 0.0271 - accuracy: 0.9904 - recall: 0.9895 - precision: 0.9902 - val_loss: 1.6491 - val_accuracy: 0.7575 - val_recall: 0.7393 - val_precision: 0.7504\n",
            "\n",
            "fit and predict time (CNN): 155.3909\n"
          ],
          "name": "stdout"
        }
      ]
    },
    {
      "cell_type": "markdown",
      "metadata": {
        "id": "1mp_d3tyMuWU"
      },
      "source": [
        "## Logistic Regression with Unigrams\n",
        "\n"
      ]
    },
    {
      "cell_type": "code",
      "metadata": {
        "id": "VHBOVp-sO2LO"
      },
      "source": [
        "X_train, X_test, Y_train, Y_test = train_test_split(data_df['headline'], data_df['is_sarcastic'], test_size = 0.25, random_state = 42)"
      ],
      "execution_count": null,
      "outputs": []
    },
    {
      "cell_type": "code",
      "metadata": {
        "id": "nUlGnof7Ms97"
      },
      "source": [
        "# bag of words\n",
        "\n",
        "from sklearn.feature_extraction.text import CountVectorizer\n",
        "\n",
        "matrix = CountVectorizer(max_features=1000)\n",
        "X_train_bag = matrix.fit_transform(X_train).toarray()\n",
        "X_test_bag = matrix.fit_transform(X_test).toarray()"
      ],
      "execution_count": null,
      "outputs": []
    },
    {
      "cell_type": "code",
      "metadata": {
        "colab": {
          "base_uri": "https://localhost:8080/"
        },
        "id": "NNTF1mQaPjaM",
        "outputId": "1f3c07f3-8fdb-4efd-aec4-a02980a12008"
      },
      "source": [
        "from sklearn.linear_model import LogisticRegression\n",
        "from sklearn.metrics import precision_score\n",
        "from sklearn.metrics import f1_score\n",
        "from sklearn.metrics import recall_score\n",
        "\n",
        "start = time.time()\n",
        "clf1 = LogisticRegression(random_state=0).fit(X_train_bag, Y_train)\n",
        "prediction_clf1 = clf1.predict(X_test_bag)\n",
        "end = time.time()\n",
        "\n",
        "print(\"Training Accuracy Score for Logistic Regresssion with Unigrams: {:.4f}\".format(clf1.score(X_train_bag, Y_train)))\n",
        "print(\"Validation Accuracy Score for Logistic Regresssion with Unigrams: {:.4f}\".format(clf1.score(X_test_bag, Y_test)))\n",
        "print(\"Precision Score: {:.4f}\".format(precision_score(Y_test, prediction_clf1)))\n",
        "print(\"F1 Score: {:.4f}\".format(f1_score(Y_test, prediction_clf1)))\n",
        "print(\"Recall Score: {:.4f}\".format(recall_score(Y_test, prediction_clf1)))\n",
        "\n",
        "print()\n",
        "print(\"fit and predict time (Logistic Regresssion with Unigrams): {:.4f}\".format(end-start))"
      ],
      "execution_count": null,
      "outputs": [
        {
          "output_type": "stream",
          "text": [
            "Training Accuracy Score for Logistic Regresssion with Unigrams: 0.7653\n",
            "Validation Accuracy Score for Logistic Regresssion with Unigrams: 0.5139\n",
            "Precision Score: 0.4916\n",
            "F1 Score: 0.4726\n",
            "Recall Score: 0.4549\n",
            "\n",
            "fit and predict time (Logistic Regresssion with Unigrams): 2.3109\n"
          ],
          "name": "stdout"
        }
      ]
    },
    {
      "cell_type": "markdown",
      "metadata": {
        "id": "L__b2OYhQuIX"
      },
      "source": [
        "## Logistic Regression with Sentence Transformers"
      ]
    },
    {
      "cell_type": "code",
      "metadata": {
        "colab": {
          "base_uri": "https://localhost:8080/"
        },
        "id": "krR7zLDHAXAa",
        "outputId": "8af1f317-c520-41c3-97b5-03a3c60966e7"
      },
      "source": [
        "!pip install sentence-transformers"
      ],
      "execution_count": null,
      "outputs": [
        {
          "output_type": "stream",
          "text": [
            "Requirement already satisfied: sentence-transformers in /usr/local/lib/python3.7/dist-packages (1.1.1)\n",
            "Requirement already satisfied: transformers<5.0.0,>=3.1.0 in /usr/local/lib/python3.7/dist-packages (from sentence-transformers) (4.6.1)\n",
            "Requirement already satisfied: torch>=1.6.0 in /usr/local/lib/python3.7/dist-packages (from sentence-transformers) (1.8.1+cu101)\n",
            "Requirement already satisfied: scipy in /usr/local/lib/python3.7/dist-packages (from sentence-transformers) (1.4.1)\n",
            "Requirement already satisfied: scikit-learn in /usr/local/lib/python3.7/dist-packages (from sentence-transformers) (0.22.2.post1)\n",
            "Requirement already satisfied: sentencepiece in /usr/local/lib/python3.7/dist-packages (from sentence-transformers) (0.1.95)\n",
            "Requirement already satisfied: numpy in /usr/local/lib/python3.7/dist-packages (from sentence-transformers) (1.19.5)\n",
            "Requirement already satisfied: torchvision in /usr/local/lib/python3.7/dist-packages (from sentence-transformers) (0.9.1+cu101)\n",
            "Requirement already satisfied: nltk in /usr/local/lib/python3.7/dist-packages (from sentence-transformers) (3.2.5)\n",
            "Requirement already satisfied: tqdm in /usr/local/lib/python3.7/dist-packages (from sentence-transformers) (4.41.1)\n",
            "Requirement already satisfied: huggingface-hub==0.0.8 in /usr/local/lib/python3.7/dist-packages (from transformers<5.0.0,>=3.1.0->sentence-transformers) (0.0.8)\n",
            "Requirement already satisfied: packaging in /usr/local/lib/python3.7/dist-packages (from transformers<5.0.0,>=3.1.0->sentence-transformers) (20.9)\n",
            "Requirement already satisfied: sacremoses in /usr/local/lib/python3.7/dist-packages (from transformers<5.0.0,>=3.1.0->sentence-transformers) (0.0.45)\n",
            "Requirement already satisfied: regex!=2019.12.17 in /usr/local/lib/python3.7/dist-packages (from transformers<5.0.0,>=3.1.0->sentence-transformers) (2019.12.20)\n",
            "Requirement already satisfied: importlib-metadata; python_version < \"3.8\" in /usr/local/lib/python3.7/dist-packages (from transformers<5.0.0,>=3.1.0->sentence-transformers) (4.0.1)\n",
            "Requirement already satisfied: filelock in /usr/local/lib/python3.7/dist-packages (from transformers<5.0.0,>=3.1.0->sentence-transformers) (3.0.12)\n",
            "Requirement already satisfied: tokenizers<0.11,>=0.10.1 in /usr/local/lib/python3.7/dist-packages (from transformers<5.0.0,>=3.1.0->sentence-transformers) (0.10.2)\n",
            "Requirement already satisfied: requests in /usr/local/lib/python3.7/dist-packages (from transformers<5.0.0,>=3.1.0->sentence-transformers) (2.23.0)\n",
            "Requirement already satisfied: typing-extensions in /usr/local/lib/python3.7/dist-packages (from torch>=1.6.0->sentence-transformers) (3.7.4.3)\n",
            "Requirement already satisfied: joblib>=0.11 in /usr/local/lib/python3.7/dist-packages (from scikit-learn->sentence-transformers) (1.0.1)\n",
            "Requirement already satisfied: pillow>=4.1.1 in /usr/local/lib/python3.7/dist-packages (from torchvision->sentence-transformers) (7.1.2)\n",
            "Requirement already satisfied: six in /usr/local/lib/python3.7/dist-packages (from nltk->sentence-transformers) (1.15.0)\n",
            "Requirement already satisfied: pyparsing>=2.0.2 in /usr/local/lib/python3.7/dist-packages (from packaging->transformers<5.0.0,>=3.1.0->sentence-transformers) (2.4.7)\n",
            "Requirement already satisfied: click in /usr/local/lib/python3.7/dist-packages (from sacremoses->transformers<5.0.0,>=3.1.0->sentence-transformers) (8.0.0)\n",
            "Requirement already satisfied: zipp>=0.5 in /usr/local/lib/python3.7/dist-packages (from importlib-metadata; python_version < \"3.8\"->transformers<5.0.0,>=3.1.0->sentence-transformers) (3.4.1)\n",
            "Requirement already satisfied: certifi>=2017.4.17 in /usr/local/lib/python3.7/dist-packages (from requests->transformers<5.0.0,>=3.1.0->sentence-transformers) (2020.12.5)\n",
            "Requirement already satisfied: chardet<4,>=3.0.2 in /usr/local/lib/python3.7/dist-packages (from requests->transformers<5.0.0,>=3.1.0->sentence-transformers) (3.0.4)\n",
            "Requirement already satisfied: idna<3,>=2.5 in /usr/local/lib/python3.7/dist-packages (from requests->transformers<5.0.0,>=3.1.0->sentence-transformers) (2.10)\n",
            "Requirement already satisfied: urllib3!=1.25.0,!=1.25.1,<1.26,>=1.21.1 in /usr/local/lib/python3.7/dist-packages (from requests->transformers<5.0.0,>=3.1.0->sentence-transformers) (1.24.3)\n"
          ],
          "name": "stdout"
        }
      ]
    },
    {
      "cell_type": "code",
      "metadata": {
        "id": "0wAtwjwkVOQf"
      },
      "source": [
        "from sentence_transformers import SentenceTransformer\n",
        "from sklearn.linear_model import LogisticRegression"
      ],
      "execution_count": null,
      "outputs": []
    },
    {
      "cell_type": "code",
      "metadata": {
        "id": "QtugYZ2jCt2L"
      },
      "source": [
        "model = SentenceTransformer('paraphrase-distilroberta-base-v1')"
      ],
      "execution_count": null,
      "outputs": []
    },
    {
      "cell_type": "code",
      "metadata": {
        "id": "GcJk1JdIpG-M"
      },
      "source": [
        "X_train_embeddings = model.encode(X_train.to_list())\n",
        "X_test_embeddings = model.encode(X_test.to_list())"
      ],
      "execution_count": null,
      "outputs": []
    },
    {
      "cell_type": "code",
      "metadata": {
        "colab": {
          "base_uri": "https://localhost:8080/"
        },
        "id": "DeEzqfryRtc5",
        "outputId": "ed9c802e-b2ee-4544-955f-1fa2a536fa14"
      },
      "source": [
        "start = time.time()\n",
        "clf2 = LogisticRegression(random_state=0, max_iter = 1000).fit(X_train_embeddings, Y_train)\n",
        "prediction_clf2 = clf2.predict(X_test_embeddings)\n",
        "end = time.time()\n",
        "\n",
        "print(\"Training Accuracy Score for Logistic Regresssion with Sentence Transformers: {:.4f}\" .format(clf2.score(X_train_embeddings, Y_train)))\n",
        "print(\"Validation Accuracy Score for Logistic Regresssion with Sentence Transformers: {:.4f}\".format(clf2.score(X_test_embeddings, Y_test)))\n",
        "print(\"Precision Score: {:.4f}\".format(precision_score(Y_test, prediction_clf2)))\n",
        "print(\"F1 Score: {:.4f}\".format(f1_score(Y_test, prediction_clf2)))\n",
        "print(\"Recall Score: {:.4f}\".format(recall_score(Y_test, prediction_clf2)))\n",
        "\n",
        "print()\n",
        "print(\"fit and predict time (Logistic Regresssion with Sentence Transformers): {:.4f}\".format(end-start))"
      ],
      "execution_count": null,
      "outputs": [
        {
          "output_type": "stream",
          "text": [
            "Training Accuracy Score for Logistic Regresssion with Sentence Transformers: 0.7947\n",
            "Validation Accuracy Score for Logistic Regresssion with Sentence Transformers: 0.7620\n",
            "Precision Score: 0.7547\n",
            "F1 Score: 0.7497\n",
            "Recall Score: 0.7448\n",
            "\n",
            "fit and predict time (Logistic Regresssion with Sentence Transformers): 4.0143\n"
          ],
          "name": "stdout"
        }
      ]
    },
    {
      "cell_type": "markdown",
      "metadata": {
        "id": "PSYJeBLxf-LA"
      },
      "source": [
        "  ## SVM with Unigrams"
      ]
    },
    {
      "cell_type": "code",
      "metadata": {
        "id": "QBPRUHR_fyEL"
      },
      "source": [
        "from sklearn.svm import SVC\n",
        "\n",
        "start = time.time()\n",
        "clf_svm_1 = SVC().fit(X_train_bag, Y_train)\n",
        "prediction_clf_svm_1 = clf_svm_1.predict(X_test_bag)\n",
        "end = time.time()\n",
        "\n",
        "\n",
        "print(\"Training Accuracy Score for Logistic Regresssion with Unigrams: {:.4f}\".format(clf_svm_1.score(X_train_bag, Y_train)))\n",
        "print(\"Validation Accuracy Score for Logistic Regresssion with Unigrams: {:.4f}\".format(clf_svm_1.score(X_test_bag, Y_test)))\n",
        "print(\"Precision Score: {:.4f}\".format(precision_score(Y_test, prediction_clf_svm_1)))\n",
        "print(\"F1 Score: {:.4f}\".format(f1_score(Y_test, prediction_clf_svm_1)))\n",
        "print(\"Recall Score: {:.4f}\".format(recall_score(Y_test, prediction_clf_svm_1)))\n",
        "\n",
        "print()\n",
        "print(\"fit and predict time (SVG with Unigrams): {:.4f}\".format(end-start))"
      ],
      "execution_count": null,
      "outputs": []
    },
    {
      "cell_type": "markdown",
      "metadata": {
        "id": "Emat1QRdZoDS"
      },
      "source": [
        "## SVM with Embeddings"
      ]
    },
    {
      "cell_type": "code",
      "metadata": {
        "id": "NLOtCEjsswD0"
      },
      "source": [
        "start = time.time()\n",
        "clf_svm_2 = SVC().fit(X_train_embeddings, Y_train)\n",
        "prediction_clf_svm_2 = clf_svm_2.predict(X_test_embeddings)\n",
        "end = time.time()\n",
        "\n",
        "print(\"Training Accuracy Score for Logistic Regresssion with Unigrams: {:.4f}\".format(clf_svm_2.score(X_train_embeddings, Y_train)))\n",
        "print(\"Validation Accuracy Score for Logistic Regresssion with Unigrams: {:.4f}\".format(clf_svm_2.score(X_test_embeddings, Y_test)))\n",
        "print(\"Precision Score: {:.4f}\".format(precision_score(Y_test, prediction_clf_svm_2)))\n",
        "print(\"F1 Score: {:.4f}\".format(f1_score(Y_test, prediction_clf_svm_2)))\n",
        "print(\"Recall Score: {:.4f}\".format(recall_score(Y_test, prediction_clf_svm_2)))\n",
        "\n",
        "print(\"fit and predict time (SVG with Sentence Transformers): {:.4f}\".format(end-start))"
      ],
      "execution_count": null,
      "outputs": []
    },
    {
      "cell_type": "markdown",
      "metadata": {
        "id": "g3fZruwRmR7T"
      },
      "source": [
        "## KNN"
      ]
    },
    {
      "cell_type": "code",
      "metadata": {
        "id": "X39d70y4mTe4"
      },
      "source": [
        "from sklearn.neighbors import KNeighborsClassifier\n",
        "\n",
        "\n",
        "start = time.time()\n",
        "clf_knn = KNeighborsClassifier(n_neighbors=3).fit(X_train_embeddings, Y_train)\n",
        "prediction_clf_knn = clf_knn.predict(X_test_embeddings)\n",
        "end = time.time()"
      ],
      "execution_count": null,
      "outputs": []
    },
    {
      "cell_type": "code",
      "metadata": {
        "colab": {
          "base_uri": "https://localhost:8080/"
        },
        "id": "hxhyp9E-u0Mf",
        "outputId": "68ec2998-4668-42ff-ca2d-e24b69a11af7"
      },
      "source": [
        "print(\"Training Accuracy Score for KNN with Sentence Transformers: {:.4f}\".format(clf_knn.score(X_train_embeddings, Y_train)))\n",
        "print(\"Validation Accuracy Score for KNN with Sentence Transformers: {:.4f}\".format(clf_knn.score(X_test_embeddings, Y_test)))\n",
        "print(\"Precision Score: {:.4f}\".format(precision_score(Y_test, prediction_clf_knn)))\n",
        "print(\"F1 Score: {:.4f}\".format(f1_score(Y_test, prediction_clf_knn)))\n",
        "print(\"Recall Score: {:.4f}\".format(recall_score(Y_test, prediction_clf_knn)))\n",
        "\n",
        "print(\"fit and predict time (SVG with Sentence Transformers): {:.4f}\".format(end-start))"
      ],
      "execution_count": null,
      "outputs": [
        {
          "output_type": "stream",
          "text": [
            "Training Accuracy Score for KNN with Sentence Transformers: 0.850633619083116\n",
            "Validation Accuracy Score for KNN with Sentence Transformers: 0.6982529699510832\n",
            "Precision Score:  0.7057867360208062\n",
            "F1 Score:  0.6678972465774495\n",
            "Recall Score:  0.6338686131386861\n",
            "fit and predict time (SVG with Sentence Transformers): 288.61064887046814\n"
          ],
          "name": "stdout"
        }
      ]
    }
  ]
}